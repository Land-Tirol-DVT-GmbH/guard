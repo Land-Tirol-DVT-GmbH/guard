{
 "cells": [
  {
   "cell_type": "code",
   "execution_count": 25,
   "metadata": {
    "is_executing": true
   },
   "outputs": [],
   "source": [
    "# install presidio via pip if not yet installed\n",
    "\n",
    "#!pip install presidio-analyzer\n",
    "#!pip install presidio-evaluator"
   ]
  },
  {
   "cell_type": "code",
   "execution_count": 1,
   "metadata": {
    "is_executing": true,
    "scrolled": true
   },
   "outputs": [
    {
     "name": "stderr",
     "output_type": "stream",
     "text": [
      "c:\\Users\\Alan\\anaconda3\\envs\\pj-software\\Lib\\site-packages\\tqdm\\auto.py:21: TqdmWarning: IProgress not found. Please update jupyter and ipywidgets. See https://ipywidgets.readthedocs.io/en/stable/user_install.html\n",
      "  from .autonotebook import tqdm as notebook_tqdm\n"
     ]
    }
   ],
   "source": [
    "import datetime\n",
    "import pprint\n",
    "from collections import Counter\n",
    "from pathlib import Path\n",
    "from typing import Dict, List\n",
    "\n",
    "import pandas as pd\n",
    "import numpy as np\n",
    "\n",
    "from presidio_evaluator import InputSample\n",
    "from presidio_evaluator.data_generator import PresidioSentenceFaker\n",
    "from faker.providers import BaseProvider"
   ]
  },
  {
   "cell_type": "markdown",
   "metadata": {},
   "source": [
    "# Generate fake PII data using the Presidio Sentence Faker"
   ]
  },
  {
   "cell_type": "markdown",
   "metadata": {},
   "source": [
    "The Presidio Sentence Faker enables you to generate a synthetic dataset from sentence templates.\n",
    "Example templates:\n",
    "\n",
    "> I live at {{address}}\n",
    "\n",
    "> You can email me at {{email}}. Thanks, {{first_name}}\n",
    "\n",
    "> What's your last name? It's {{last_name}}\n",
    "\n",
    "> Every time I see you falling I get down on my knees and pray"
   ]
  },
  {
   "cell_type": "markdown",
   "metadata": {},
   "source": [
    "### Simple example for German sentences\n",
    "\n",
    "Steps:\n",
    "1) Preprocess dataset\n",
    "2) Initialize dependencies\n",
    "3) Generate sample sentences"
   ]
  },
  {
   "cell_type": "markdown",
   "metadata": {},
   "source": [
    "#### 1) Preprocess dataset\n",
    "Converts upper case, custom entity columns to lowercase\n",
    "\n",
    "Example:\n",
    "- Vehicle : vehicle\n"
   ]
  },
  {
   "cell_type": "code",
   "execution_count": 2,
   "metadata": {},
   "outputs": [],
   "source": [
    "# Converts the selected upper-case columns to lower-case (needed for custom entities)\n",
    "def column_to_lower(column_name:str, records: pd.DataFrame):\n",
    "    records.rename(columns={column_name: column_name.lower()}, inplace=True)"
   ]
  },
  {
   "cell_type": "markdown",
   "metadata": {},
   "source": [
    "#### 2) Initialize the needed dependencies"
   ]
  },
  {
   "cell_type": "code",
   "execution_count": 3,
   "metadata": {},
   "outputs": [
    {
     "data": {
      "text/html": [
       "<div>\n",
       "<style scoped>\n",
       "    .dataframe tbody tr th:only-of-type {\n",
       "        vertical-align: middle;\n",
       "    }\n",
       "\n",
       "    .dataframe tbody tr th {\n",
       "        vertical-align: top;\n",
       "    }\n",
       "\n",
       "    .dataframe thead th {\n",
       "        text-align: right;\n",
       "    }\n",
       "</style>\n",
       "<table border=\"1\" class=\"dataframe\">\n",
       "  <thead>\n",
       "    <tr style=\"text-align: right;\">\n",
       "      <th></th>\n",
       "      <th>NameSet</th>\n",
       "      <th>Number</th>\n",
       "      <th>GivenName</th>\n",
       "      <th>MiddleInitial</th>\n",
       "      <th>Surname</th>\n",
       "      <th>StreetAddress</th>\n",
       "      <th>City</th>\n",
       "      <th>StateFull</th>\n",
       "      <th>ZipCode</th>\n",
       "      <th>Country</th>\n",
       "      <th>...</th>\n",
       "      <th>Birthday</th>\n",
       "      <th>Age</th>\n",
       "      <th>NationalID</th>\n",
       "      <th>Company</th>\n",
       "      <th>vehicle</th>\n",
       "      <th>Domain</th>\n",
       "      <th>GUID</th>\n",
       "      <th>Latitude</th>\n",
       "      <th>Longitude</th>\n",
       "      <th>Title</th>\n",
       "    </tr>\n",
       "  </thead>\n",
       "  <tbody>\n",
       "    <tr>\n",
       "      <th>0</th>\n",
       "      <td>Austrian</td>\n",
       "      <td>0</td>\n",
       "      <td>Joshua</td>\n",
       "      <td>E</td>\n",
       "      <td>Hosp</td>\n",
       "      <td>Schandlring 6/9</td>\n",
       "      <td>Köflach</td>\n",
       "      <td>Steiermark</td>\n",
       "      <td>5319</td>\n",
       "      <td>AT</td>\n",
       "      <td>...</td>\n",
       "      <td>01/26/1944</td>\n",
       "      <td>80</td>\n",
       "      <td>240-05-3938</td>\n",
       "      <td>Böhler Ltd</td>\n",
       "      <td>O 37660 GZ</td>\n",
       "      <td>hinteregger-stocker.co.at</td>\n",
       "      <td>627900e1-7982-4807-9917-2d162f937d5b</td>\n",
       "      <td>81.463266</td>\n",
       "      <td>-59.257238</td>\n",
       "      <td>Dr.</td>\n",
       "    </tr>\n",
       "    <tr>\n",
       "      <th>1</th>\n",
       "      <td>Austrian</td>\n",
       "      <td>1</td>\n",
       "      <td>Ina</td>\n",
       "      <td>F</td>\n",
       "      <td>Ofner</td>\n",
       "      <td>Liliana-Salzmann-Platz 0</td>\n",
       "      <td>Bischofshofen</td>\n",
       "      <td>Oberösterreich</td>\n",
       "      <td>3463</td>\n",
       "      <td>AT</td>\n",
       "      <td>...</td>\n",
       "      <td>01/18/1942</td>\n",
       "      <td>82</td>\n",
       "      <td>347-89-5908</td>\n",
       "      <td>Strohmeier Group</td>\n",
       "      <td>L 68011 LJ</td>\n",
       "      <td>wallner-thurner.com</td>\n",
       "      <td>c630a082-3553-445b-a0d2-8e9c94e6adda</td>\n",
       "      <td>-84.803370</td>\n",
       "      <td>-77.110354</td>\n",
       "      <td>Ing.</td>\n",
       "    </tr>\n",
       "    <tr>\n",
       "      <th>2</th>\n",
       "      <td>Austrian</td>\n",
       "      <td>2</td>\n",
       "      <td>Ajna</td>\n",
       "      <td>A</td>\n",
       "      <td>Schrempf</td>\n",
       "      <td>Aaron-Zechner-Weg 366</td>\n",
       "      <td>Lilienfeld</td>\n",
       "      <td>Oberösterreich</td>\n",
       "      <td>4923</td>\n",
       "      <td>AT</td>\n",
       "      <td>...</td>\n",
       "      <td>06/05/1943</td>\n",
       "      <td>81</td>\n",
       "      <td>243-56-7343</td>\n",
       "      <td>Jäger-Gstrein</td>\n",
       "      <td>B 22003 QF</td>\n",
       "      <td>rabitsch.co.at</td>\n",
       "      <td>f483e0da-5442-47d2-a2b3-5db050b624dd</td>\n",
       "      <td>-63.573471</td>\n",
       "      <td>68.746492</td>\n",
       "      <td>Frau</td>\n",
       "    </tr>\n",
       "    <tr>\n",
       "      <th>3</th>\n",
       "      <td>Austrian</td>\n",
       "      <td>3</td>\n",
       "      <td>Lukas</td>\n",
       "      <td>U</td>\n",
       "      <td>Brandner</td>\n",
       "      <td>Larissa-Fasching-Ring 5/3</td>\n",
       "      <td>Bad Ischl</td>\n",
       "      <td>Oberösterreich</td>\n",
       "      <td>4565</td>\n",
       "      <td>AT</td>\n",
       "      <td>...</td>\n",
       "      <td>05/30/1942</td>\n",
       "      <td>82</td>\n",
       "      <td>050-84-4562</td>\n",
       "      <td>Loibl, Graf and Schweitzer</td>\n",
       "      <td>T 4601 QS</td>\n",
       "      <td>kirchner-zoehrer.org</td>\n",
       "      <td>61eff7f4-58fc-458e-b3ef-8956841aeb3d</td>\n",
       "      <td>57.899460</td>\n",
       "      <td>123.404391</td>\n",
       "      <td>Ing.</td>\n",
       "    </tr>\n",
       "    <tr>\n",
       "      <th>4</th>\n",
       "      <td>Austrian</td>\n",
       "      <td>4</td>\n",
       "      <td>Lara-Sophie</td>\n",
       "      <td>L</td>\n",
       "      <td>Windisch</td>\n",
       "      <td>Reinischstr. 0</td>\n",
       "      <td>Leoben</td>\n",
       "      <td>Niederösterreich</td>\n",
       "      <td>9365</td>\n",
       "      <td>AT</td>\n",
       "      <td>...</td>\n",
       "      <td>06/18/2000</td>\n",
       "      <td>24</td>\n",
       "      <td>159-24-6956</td>\n",
       "      <td>Eberhard LLC</td>\n",
       "      <td>V 45528 EW</td>\n",
       "      <td>kahr-frank.co.at</td>\n",
       "      <td>b6461253-7eb1-4f85-a241-e5cc8a6ca6d0</td>\n",
       "      <td>47.395934</td>\n",
       "      <td>-95.218662</td>\n",
       "      <td>Herr</td>\n",
       "    </tr>\n",
       "  </tbody>\n",
       "</table>\n",
       "<p>5 rows × 24 columns</p>\n",
       "</div>"
      ],
      "text/plain": [
       "    NameSet  Number    GivenName MiddleInitial   Surname  \\\n",
       "0  Austrian       0       Joshua             E      Hosp   \n",
       "1  Austrian       1          Ina             F     Ofner   \n",
       "2  Austrian       2         Ajna             A  Schrempf   \n",
       "3  Austrian       3        Lukas             U  Brandner   \n",
       "4  Austrian       4  Lara-Sophie             L  Windisch   \n",
       "\n",
       "               StreetAddress           City         StateFull  ZipCode  \\\n",
       "0            Schandlring 6/9        Köflach        Steiermark     5319   \n",
       "1   Liliana-Salzmann-Platz 0  Bischofshofen    Oberösterreich     3463   \n",
       "2      Aaron-Zechner-Weg 366     Lilienfeld    Oberösterreich     4923   \n",
       "3  Larissa-Fasching-Ring 5/3      Bad Ischl    Oberösterreich     4565   \n",
       "4             Reinischstr. 0         Leoben  Niederösterreich     9365   \n",
       "\n",
       "  Country  ...    Birthday Age   NationalID                     Company  \\\n",
       "0      AT  ...  01/26/1944  80  240-05-3938                  Böhler Ltd   \n",
       "1      AT  ...  01/18/1942  82  347-89-5908            Strohmeier Group   \n",
       "2      AT  ...  06/05/1943  81  243-56-7343               Jäger-Gstrein   \n",
       "3      AT  ...  05/30/1942  82  050-84-4562  Loibl, Graf and Schweitzer   \n",
       "4      AT  ...  06/18/2000  24  159-24-6956                Eberhard LLC   \n",
       "\n",
       "      vehicle                     Domain  \\\n",
       "0  O 37660 GZ  hinteregger-stocker.co.at   \n",
       "1  L 68011 LJ        wallner-thurner.com   \n",
       "2  B 22003 QF             rabitsch.co.at   \n",
       "3   T 4601 QS       kirchner-zoehrer.org   \n",
       "4  V 45528 EW           kahr-frank.co.at   \n",
       "\n",
       "                                   GUID   Latitude   Longitude Title  \n",
       "0  627900e1-7982-4807-9917-2d162f937d5b  81.463266  -59.257238   Dr.  \n",
       "1  c630a082-3553-445b-a0d2-8e9c94e6adda -84.803370  -77.110354  Ing.  \n",
       "2  f483e0da-5442-47d2-a2b3-5db050b624dd -63.573471   68.746492  Frau  \n",
       "3  61eff7f4-58fc-458e-b3ef-8956841aeb3d  57.899460  123.404391  Ing.  \n",
       "4  b6461253-7eb1-4f85-a241-e5cc8a6ca6d0  47.395934  -95.218662  Herr  \n",
       "\n",
       "[5 rows x 24 columns]"
      ]
     },
     "execution_count": 3,
     "metadata": {},
     "output_type": "execute_result"
    }
   ],
   "source": [
    "# German sentences\n",
    "with open(\"templates/german_templates_v2.txt\", \"r\", encoding=\"utf-8\") as f:\n",
    "    german_templates = [line.strip() for line in f if line.strip()]\n",
    "\n",
    "# Update the entity mapping to include our custom entities\n",
    "german_entity_mapping = PresidioSentenceFaker.ENTITY_TYPE_MAPPING.copy()\n",
    "german_entity_mapping.update({\n",
    "    \"vehicle\": \"AUT_LICENSE_PLATE\"  # Map to Presidio Entity Type\n",
    "})\n",
    "\n",
    "# Read German entries for PII and convert custom column titles to lower\n",
    "german_records = pd.read_csv(\"data/austrian_pii_dataset.csv\")\n",
    "column_to_lower(\"Vehicle\", german_records)\n",
    "\n",
    "german_records.head()"
   ]
  },
  {
   "cell_type": "markdown",
   "metadata": {},
   "source": [
    "#### 3) Generate some fake sentences"
   ]
  },
  {
   "cell_type": "code",
   "execution_count": 4,
   "metadata": {},
   "outputs": [
    {
     "name": "stdout",
     "output_type": "stream",
     "text": [
      "Using default entity providers\n",
      "Using default provider aliases\n"
     ]
    },
    {
     "name": "stderr",
     "output_type": "stream",
     "text": [
      "Sampling: 100%|██████████| 10/10 [00:00<00:00, 2204.16it/s]"
     ]
    },
    {
     "name": "stdout",
     "output_type": "stream",
     "text": [
      "Das neu angeschaffte Hybridfahrzeug mit dem amtlichen Kennzeichen {{AUT_LICENSE_PLATE}} ist ab sofort über das digitale Buchungssystem für dienstliche Fahrten reservierbar.\n",
      "[Span(type: AUT_LICENSE_PLATE, value: k 51592 aw, char_span: [66: 76])]\n"
     ]
    },
    {
     "name": "stderr",
     "output_type": "stream",
     "text": [
      "\n"
     ]
    }
   ],
   "source": [
    "# Create an instance of the Faker with the custom objects\n",
    "sentence_faker = PresidioSentenceFaker(\n",
    "    locale=\"de_DE\",\n",
    "    lower_case_ratio=0.5,\n",
    "    sentence_templates=german_templates,\n",
    "    base_records=german_records,\n",
    "    entity_type_mapping=german_entity_mapping)\n",
    "\n",
    "# Fake some sentences\n",
    "fake_german_sentence_results = sentence_faker.generate_new_fake_sentences(10)\n",
    "\n",
    "print(fake_german_sentence_results[0].masked)\n",
    "print(fake_german_sentence_results[0].spans)"
   ]
  },
  {
   "cell_type": "markdown",
   "metadata": {},
   "source": [
    "### Generate a full German dataset\n",
    "\n",
    "In this example we generate a large dataset with multiple entity types and save it in in JSON and CONLL03 formats.\n",
    "\n",
    "Steps: \n",
    "1) Prepare the output files and number of samples\n",
    "2) Generate the dataset\n",
    "3) Analyze\n",
    "4) Write to output"
   ]
  },
  {
   "cell_type": "markdown",
   "metadata": {},
   "source": [
    "#### 1) Prepare output and number of samples and the faker"
   ]
  },
  {
   "cell_type": "code",
   "execution_count": 5,
   "metadata": {
    "is_executing": true,
    "scrolled": true
   },
   "outputs": [],
   "source": [
    "number_of_samples = 1500\n",
    "lower_case_ratio = 0.05\n",
    "locale = \"de\"\n",
    "cur_time = datetime.date.today().strftime(\"%B_%d_%Y\")\n",
    "\n",
    "output_file = f\"data/generated_size_{number_of_samples}_date_{cur_time}.json\"\n",
    "output_conll = f\"data/generated_size_{number_of_samples}_date_{cur_time}.tsv\""
   ]
  },
  {
   "cell_type": "code",
   "execution_count": 6,
   "metadata": {},
   "outputs": [
    {
     "name": "stdout",
     "output_type": "stream",
     "text": [
      "Using default entity providers\n",
      "Using default provider aliases\n"
     ]
    }
   ],
   "source": [
    "# Adjusted final faker\n",
    "sentence_faker = PresidioSentenceFaker(\n",
    "    locale=\"de_DE\",\n",
    "    lower_case_ratio=0.5,\n",
    "    sentence_templates=german_templates,\n",
    "    base_records=german_records,\n",
    "    entity_type_mapping=german_entity_mapping)"
   ]
  },
  {
   "cell_type": "code",
   "execution_count": 7,
   "metadata": {},
   "outputs": [
    {
     "data": {
      "text/html": [
       "<div>\n",
       "<style scoped>\n",
       "    .dataframe tbody tr th:only-of-type {\n",
       "        vertical-align: middle;\n",
       "    }\n",
       "\n",
       "    .dataframe tbody tr th {\n",
       "        vertical-align: top;\n",
       "    }\n",
       "\n",
       "    .dataframe thead th {\n",
       "        text-align: right;\n",
       "    }\n",
       "</style>\n",
       "<table border=\"1\" class=\"dataframe\">\n",
       "  <thead>\n",
       "    <tr style=\"text-align: right;\">\n",
       "      <th></th>\n",
       "      <th>NameSet</th>\n",
       "      <th>Number</th>\n",
       "      <th>GivenName</th>\n",
       "      <th>MiddleInitial</th>\n",
       "      <th>Surname</th>\n",
       "      <th>StreetAddress</th>\n",
       "      <th>City</th>\n",
       "      <th>StateFull</th>\n",
       "      <th>ZipCode</th>\n",
       "      <th>Country</th>\n",
       "      <th>...</th>\n",
       "      <th>Birthday</th>\n",
       "      <th>Age</th>\n",
       "      <th>NationalID</th>\n",
       "      <th>Company</th>\n",
       "      <th>vehicle</th>\n",
       "      <th>Domain</th>\n",
       "      <th>GUID</th>\n",
       "      <th>Latitude</th>\n",
       "      <th>Longitude</th>\n",
       "      <th>Title</th>\n",
       "    </tr>\n",
       "  </thead>\n",
       "  <tbody>\n",
       "    <tr>\n",
       "      <th>0</th>\n",
       "      <td>Austrian</td>\n",
       "      <td>0</td>\n",
       "      <td>Joshua</td>\n",
       "      <td>E</td>\n",
       "      <td>Hosp</td>\n",
       "      <td>Schandlring 6/9</td>\n",
       "      <td>Köflach</td>\n",
       "      <td>Steiermark</td>\n",
       "      <td>5319</td>\n",
       "      <td>AT</td>\n",
       "      <td>...</td>\n",
       "      <td>01/26/1944</td>\n",
       "      <td>80</td>\n",
       "      <td>240-05-3938</td>\n",
       "      <td>Böhler Ltd</td>\n",
       "      <td>O 37660 GZ</td>\n",
       "      <td>hinteregger-stocker.co.at</td>\n",
       "      <td>627900e1-7982-4807-9917-2d162f937d5b</td>\n",
       "      <td>81.463266</td>\n",
       "      <td>-59.257238</td>\n",
       "      <td>Dr.</td>\n",
       "    </tr>\n",
       "    <tr>\n",
       "      <th>1</th>\n",
       "      <td>Austrian</td>\n",
       "      <td>1</td>\n",
       "      <td>Ina</td>\n",
       "      <td>F</td>\n",
       "      <td>Ofner</td>\n",
       "      <td>Liliana-Salzmann-Platz 0</td>\n",
       "      <td>Bischofshofen</td>\n",
       "      <td>Oberösterreich</td>\n",
       "      <td>3463</td>\n",
       "      <td>AT</td>\n",
       "      <td>...</td>\n",
       "      <td>01/18/1942</td>\n",
       "      <td>82</td>\n",
       "      <td>347-89-5908</td>\n",
       "      <td>Strohmeier Group</td>\n",
       "      <td>L 68011 LJ</td>\n",
       "      <td>wallner-thurner.com</td>\n",
       "      <td>c630a082-3553-445b-a0d2-8e9c94e6adda</td>\n",
       "      <td>-84.803370</td>\n",
       "      <td>-77.110354</td>\n",
       "      <td>Ing.</td>\n",
       "    </tr>\n",
       "    <tr>\n",
       "      <th>2</th>\n",
       "      <td>Austrian</td>\n",
       "      <td>2</td>\n",
       "      <td>Ajna</td>\n",
       "      <td>A</td>\n",
       "      <td>Schrempf</td>\n",
       "      <td>Aaron-Zechner-Weg 366</td>\n",
       "      <td>Lilienfeld</td>\n",
       "      <td>Oberösterreich</td>\n",
       "      <td>4923</td>\n",
       "      <td>AT</td>\n",
       "      <td>...</td>\n",
       "      <td>06/05/1943</td>\n",
       "      <td>81</td>\n",
       "      <td>243-56-7343</td>\n",
       "      <td>Jäger-Gstrein</td>\n",
       "      <td>B 22003 QF</td>\n",
       "      <td>rabitsch.co.at</td>\n",
       "      <td>f483e0da-5442-47d2-a2b3-5db050b624dd</td>\n",
       "      <td>-63.573471</td>\n",
       "      <td>68.746492</td>\n",
       "      <td>Frau</td>\n",
       "    </tr>\n",
       "    <tr>\n",
       "      <th>3</th>\n",
       "      <td>Austrian</td>\n",
       "      <td>3</td>\n",
       "      <td>Lukas</td>\n",
       "      <td>U</td>\n",
       "      <td>Brandner</td>\n",
       "      <td>Larissa-Fasching-Ring 5/3</td>\n",
       "      <td>Bad Ischl</td>\n",
       "      <td>Oberösterreich</td>\n",
       "      <td>4565</td>\n",
       "      <td>AT</td>\n",
       "      <td>...</td>\n",
       "      <td>05/30/1942</td>\n",
       "      <td>82</td>\n",
       "      <td>050-84-4562</td>\n",
       "      <td>Loibl, Graf and Schweitzer</td>\n",
       "      <td>T 4601 QS</td>\n",
       "      <td>kirchner-zoehrer.org</td>\n",
       "      <td>61eff7f4-58fc-458e-b3ef-8956841aeb3d</td>\n",
       "      <td>57.899460</td>\n",
       "      <td>123.404391</td>\n",
       "      <td>Ing.</td>\n",
       "    </tr>\n",
       "    <tr>\n",
       "      <th>4</th>\n",
       "      <td>Austrian</td>\n",
       "      <td>4</td>\n",
       "      <td>Lara-Sophie</td>\n",
       "      <td>L</td>\n",
       "      <td>Windisch</td>\n",
       "      <td>Reinischstr. 0</td>\n",
       "      <td>Leoben</td>\n",
       "      <td>Niederösterreich</td>\n",
       "      <td>9365</td>\n",
       "      <td>AT</td>\n",
       "      <td>...</td>\n",
       "      <td>06/18/2000</td>\n",
       "      <td>24</td>\n",
       "      <td>159-24-6956</td>\n",
       "      <td>Eberhard LLC</td>\n",
       "      <td>V 45528 EW</td>\n",
       "      <td>kahr-frank.co.at</td>\n",
       "      <td>b6461253-7eb1-4f85-a241-e5cc8a6ca6d0</td>\n",
       "      <td>47.395934</td>\n",
       "      <td>-95.218662</td>\n",
       "      <td>Herr</td>\n",
       "    </tr>\n",
       "  </tbody>\n",
       "</table>\n",
       "<p>5 rows × 24 columns</p>\n",
       "</div>"
      ],
      "text/plain": [
       "    NameSet  Number    GivenName MiddleInitial   Surname  \\\n",
       "0  Austrian       0       Joshua             E      Hosp   \n",
       "1  Austrian       1          Ina             F     Ofner   \n",
       "2  Austrian       2         Ajna             A  Schrempf   \n",
       "3  Austrian       3        Lukas             U  Brandner   \n",
       "4  Austrian       4  Lara-Sophie             L  Windisch   \n",
       "\n",
       "               StreetAddress           City         StateFull  ZipCode  \\\n",
       "0            Schandlring 6/9        Köflach        Steiermark     5319   \n",
       "1   Liliana-Salzmann-Platz 0  Bischofshofen    Oberösterreich     3463   \n",
       "2      Aaron-Zechner-Weg 366     Lilienfeld    Oberösterreich     4923   \n",
       "3  Larissa-Fasching-Ring 5/3      Bad Ischl    Oberösterreich     4565   \n",
       "4             Reinischstr. 0         Leoben  Niederösterreich     9365   \n",
       "\n",
       "  Country  ...    Birthday Age   NationalID                     Company  \\\n",
       "0      AT  ...  01/26/1944  80  240-05-3938                  Böhler Ltd   \n",
       "1      AT  ...  01/18/1942  82  347-89-5908            Strohmeier Group   \n",
       "2      AT  ...  06/05/1943  81  243-56-7343               Jäger-Gstrein   \n",
       "3      AT  ...  05/30/1942  82  050-84-4562  Loibl, Graf and Schweitzer   \n",
       "4      AT  ...  06/18/2000  24  159-24-6956                Eberhard LLC   \n",
       "\n",
       "      vehicle                     Domain  \\\n",
       "0  O 37660 GZ  hinteregger-stocker.co.at   \n",
       "1  L 68011 LJ        wallner-thurner.com   \n",
       "2  B 22003 QF             rabitsch.co.at   \n",
       "3   T 4601 QS       kirchner-zoehrer.org   \n",
       "4  V 45528 EW           kahr-frank.co.at   \n",
       "\n",
       "                                   GUID   Latitude   Longitude Title  \n",
       "0  627900e1-7982-4807-9917-2d162f937d5b  81.463266  -59.257238   Dr.  \n",
       "1  c630a082-3553-445b-a0d2-8e9c94e6adda -84.803370  -77.110354  Ing.  \n",
       "2  f483e0da-5442-47d2-a2b3-5db050b624dd -63.573471   68.746492  Frau  \n",
       "3  61eff7f4-58fc-458e-b3ef-8956841aeb3d  57.899460  123.404391  Ing.  \n",
       "4  b6461253-7eb1-4f85-a241-e5cc8a6ca6d0  47.395934  -95.218662  Herr  \n",
       "\n",
       "[5 rows x 24 columns]"
      ]
     },
     "execution_count": 7,
     "metadata": {},
     "output_type": "execute_result"
    }
   ],
   "source": [
    "pd.DataFrame(sentence_faker._sentence_faker.records).head()"
   ]
  },
  {
   "cell_type": "markdown",
   "metadata": {
    "pycharm": {
     "name": "#%% md\n"
    }
   },
   "source": [
    "#### 2) Generate the dataset"
   ]
  },
  {
   "cell_type": "code",
   "execution_count": 8,
   "metadata": {},
   "outputs": [
    {
     "name": "stderr",
     "output_type": "stream",
     "text": [
      "Sampling: 100%|██████████| 1500/1500 [00:00<00:00, 3172.87it/s]"
     ]
    },
    {
     "name": "stdout",
     "output_type": "stream",
     "text": [
      "[Full text: Bei Rückfragen zur neuen Datenschutzrichtlinie steht Ihnen Olena Wilmsen als zertifizierter Datenschutzbeauftragter jederzeit telefonisch oder per E-Mail zur Verfügung.\n",
      "Spans: [Span(type: PERSON, value: Olena Wilmsen, char_span: [59: 72])]\n",
      ",\n",
      " Full text: Der Techniker Rebekka Hettner-Koch wird mit dem Servicefahrzeug L 44458 EC morgen zwischen 13:00 und 15:00 Uhr in Unit 8541 Box 5249\n",
      "DPO AA 66549 eintreffen und ist vorab unter +41 28 982 75 85 erreichbar.\n",
      "Spans: [Span(type: PHONE_NUMBER, value: +41 28 982 75 85, char_span: [177: 193]), Span(type: STREET_ADDRESS, value: Unit 8541 Box 5249\n",
      "DPO AA 66549, char_span: [114: 145]), Span(type: AUT_LICENSE_PLATE, value: L 44458 EC, char_span: [64: 74]), Span(type: PERSON, value: Rebekka Hettner-Koch, char_span: [14: 34])]\n",
      ",\n",
      " Full text: Zum Abholen der Messematerialien steht Ihnen morgen zwischen 8:00 und 12:00 Uhr unser Servicefahrzeug mit dem Kennzeichen K 26653 YQ vor dem Haupteingang zur Verfügung.\n",
      "Spans: [Span(type: AUT_LICENSE_PLATE, value: K 26653 YQ, char_span: [122: 132])]\n",
      ",\n",
      " Full text: Für die Buchung eines persönlichen Beratungstermins senden Sie bitte drei Wunschtermine mit Ihren Kontaktdaten an ilkakostolzin@example.net oder rufen Sie uns unter +447700602416 an.\n",
      "Spans: [Span(type: PHONE_NUMBER, value: +447700602416, char_span: [165: 178]), Span(type: EMAIL_ADDRESS, value: ilkakostolzin@example.net, char_span: [114: 139])]\n",
      ",\n",
      " Full text: Gemäß dem aktuellen Fuhrparkmanagement-Plan steht das Poolfahrzeug mit dem Kennzeichen O 33867 WV jeden Montag und Donnerstag für die Außendienstmitarbeiter der Verkaufsabteilung zur Verfügung.\n",
      "Spans: [Span(type: AUT_LICENSE_PLATE, value: o 33867 wv, char_span: [87: 97])]\n",
      ",\n",
      " Full text: Für die Übergabe des neuen Firmenfahrzeugs T 21497 HW an Hermann Sölzer ist ein Termin in der Zentrale 2546 Alicia Route\n",
      "Klotzfurt\n",
      ", FM\n",
      " Morocco 62577 vereinbart, die Einweisung erfolgt durch einen Fachspezialisten.\n",
      "Spans: [Span(type: STREET_ADDRESS, value: 2546 Alicia Route\n",
      "Klotzfurt\n",
      ", FM\n",
      " Morocco 62577, char_span: [103: 150]), Span(type: PERSON, value: Hermann Sölzer, char_span: [57: 71]), Span(type: AUT_LICENSE_PLATE, value: T 21497 HW, char_span: [43: 53])]\n",
      ",\n",
      " Full text: Der Techniker Andreas Hamann wird mit dem Servicefahrzeug W 19727 AO morgen zwischen 13:00 und 15:00 Uhr in 8081 Ritter Manor\n",
      " Apt. 482\n",
      " West Ercanshire\n",
      " Tanzania eintreffen und ist vorab unter 07700 891929 erreichbar.\n",
      "Spans: [Span(type: PHONE_NUMBER, value: 07700 891929, char_span: [194: 206]), Span(type: STREET_ADDRESS, value: 8081 Ritter Manor\n",
      " Apt. 482\n",
      " West Ercanshire\n",
      " Tanzania, char_span: [108: 162]), Span(type: AUT_LICENSE_PLATE, value: W 19727 AO, char_span: [58: 68]), Span(type: PERSON, value: Andreas Hamann, char_span: [14: 28])]\n",
      ",\n",
      " Full text: Nach mehrjähriger Tätigkeit im Ausland kehrt Detlef Dietz als neuer Leiter der Entwicklungsabteilung zurück und wird ab nächsten Monat alle innovativen Projekte koordinieren.\n",
      "Spans: [Span(type: PERSON, value: detlef dietz, char_span: [45: 57])]\n",
      ",\n",
      " Full text: Bitte senden Sie alle relevanten Unterlagen zur steuerlichen Bearbeitung bis spätestens 15. des Monats direkt an die speziell eingerichtete Adresse cschleich@example.org.\n",
      "Spans: [Span(type: EMAIL_ADDRESS, value: cschleich@example.org, char_span: [148: 169])]\n",
      ",\n",
      " Full text: Nach intensiven Verhandlungen mit der Wirtschaftsförderung konnte das Grundstück in 06412 Claus-Dieter Rue Apt. 873, North Carmelo, Eritrea 90108 zu vorteilhaften Konditionen für den geplanten Erweiterungsbau erworben werden.\n",
      "Spans: [Span(type: STREET_ADDRESS, value: 06412 Claus-Dieter Rue Apt. 873, North Carmelo, Eritrea 90108, char_span: [84: 145])]\n",
      "]\n"
     ]
    },
    {
     "name": "stderr",
     "output_type": "stream",
     "text": [
      "\n"
     ]
    }
   ],
   "source": [
    "fake_records = sentence_faker.generate_new_fake_sentences(num_samples=number_of_samples)\n",
    "pprint.pprint(fake_records[0:10])"
   ]
  },
  {
   "cell_type": "markdown",
   "metadata": {},
   "source": [
    "#### 3) Analyze"
   ]
  },
  {
   "cell_type": "code",
   "execution_count": 9,
   "metadata": {
    "is_executing": true,
    "scrolled": true
   },
   "outputs": [
    {
     "name": "stdout",
     "output_type": "stream",
     "text": [
      "Total: 1500\n",
      "Avg # of records per template: 14.150943396226415\n",
      "Median # of records per template: 14.0\n",
      "Std: 4.032398164747644\n"
     ]
    }
   ],
   "source": [
    "count_per_template_id = Counter([sample.template_id for sample in fake_records])\n",
    "\n",
    "print(f\"Total: {sum(count_per_template_id.values())}\")\n",
    "print(f\"Avg # of records per template: {np.mean(list(count_per_template_id.values()))}\")\n",
    "print(\n",
    "    f\"Median # of records per template: {np.median(list(count_per_template_id.values()))}\"\n",
    ")\n",
    "print(f\"Std: {np.std(list(count_per_template_id.values()))}\")"
   ]
  },
  {
   "cell_type": "markdown",
   "metadata": {
    "pycharm": {
     "name": "#%% md\n"
    }
   },
   "source": [
    "##### Which entities did we generate?"
   ]
  },
  {
   "cell_type": "code",
   "execution_count": 10,
   "metadata": {
    "is_executing": true,
    "pycharm": {
     "name": "#%%\n"
    }
   },
   "outputs": [
    {
     "data": {
      "text/plain": [
       "Counter({'PERSON': 623,\n",
       "         'STREET_ADDRESS': 589,\n",
       "         'AUT_LICENSE_PLATE': 422,\n",
       "         'EMAIL_ADDRESS': 325,\n",
       "         'PHONE_NUMBER': 302})"
      ]
     },
     "execution_count": 10,
     "metadata": {},
     "output_type": "execute_result"
    }
   ],
   "source": [
    "count_per_entity = Counter()\n",
    "for record in fake_records:\n",
    "    count_per_entity.update(Counter([span.entity_type for span in record.spans]))\n",
    "\n",
    "count_per_entity"
   ]
  },
  {
   "cell_type": "code",
   "execution_count": 11,
   "metadata": {},
   "outputs": [
    {
     "name": "stdout",
     "output_type": "stream",
     "text": [
      "Full text: Bei Rückfragen zur neuen Datenschutzrichtlinie steht Ihnen Olena Wilmsen als zertifizierter Datenschutzbeauftragter jederzeit telefonisch oder per E-Mail zur Verfügung.\n",
      "Spans: [Span(type: PERSON, value: Olena Wilmsen, char_span: [59: 72])]\n",
      "\n",
      "Full text: Der Techniker Rebekka Hettner-Koch wird mit dem Servicefahrzeug L 44458 EC morgen zwischen 13:00 und 15:00 Uhr in Unit 8541 Box 5249\n",
      "DPO AA 66549 eintreffen und ist vorab unter +41 28 982 75 85 erreichbar.\n",
      "Spans: [Span(type: PHONE_NUMBER, value: +41 28 982 75 85, char_span: [177: 193]), Span(type: STREET_ADDRESS, value: Unit 8541 Box 5249\n",
      "DPO AA 66549, char_span: [114: 145]), Span(type: AUT_LICENSE_PLATE, value: L 44458 EC, char_span: [64: 74]), Span(type: PERSON, value: Rebekka Hettner-Koch, char_span: [14: 34])]\n",
      "\n",
      "Full text: Zum Abholen der Messematerialien steht Ihnen morgen zwischen 8:00 und 12:00 Uhr unser Servicefahrzeug mit dem Kennzeichen K 26653 YQ vor dem Haupteingang zur Verfügung.\n",
      "Spans: [Span(type: AUT_LICENSE_PLATE, value: K 26653 YQ, char_span: [122: 132])]\n",
      "\n",
      "Full text: Für die Buchung eines persönlichen Beratungstermins senden Sie bitte drei Wunschtermine mit Ihren Kontaktdaten an ilkakostolzin@example.net oder rufen Sie uns unter +447700602416 an.\n",
      "Spans: [Span(type: PHONE_NUMBER, value: +447700602416, char_span: [165: 178]), Span(type: EMAIL_ADDRESS, value: ilkakostolzin@example.net, char_span: [114: 139])]\n",
      "\n",
      "Full text: Gemäß dem aktuellen Fuhrparkmanagement-Plan steht das Poolfahrzeug mit dem Kennzeichen O 33867 WV jeden Montag und Donnerstag für die Außendienstmitarbeiter der Verkaufsabteilung zur Verfügung.\n",
      "Spans: [Span(type: AUT_LICENSE_PLATE, value: o 33867 wv, char_span: [87: 97])]\n",
      "\n",
      "Full text: Für die Übergabe des neuen Firmenfahrzeugs T 21497 HW an Hermann Sölzer ist ein Termin in der Zentrale 2546 Alicia Route\n",
      "Klotzfurt\n",
      ", FM\n",
      " Morocco 62577 vereinbart, die Einweisung erfolgt durch einen Fachspezialisten.\n",
      "Spans: [Span(type: STREET_ADDRESS, value: 2546 Alicia Route\n",
      "Klotzfurt\n",
      ", FM\n",
      " Morocco 62577, char_span: [103: 150]), Span(type: PERSON, value: Hermann Sölzer, char_span: [57: 71]), Span(type: AUT_LICENSE_PLATE, value: T 21497 HW, char_span: [43: 53])]\n",
      "\n",
      "Full text: Der Techniker Andreas Hamann wird mit dem Servicefahrzeug W 19727 AO morgen zwischen 13:00 und 15:00 Uhr in 8081 Ritter Manor\n",
      " Apt. 482\n",
      " West Ercanshire\n",
      " Tanzania eintreffen und ist vorab unter 07700 891929 erreichbar.\n",
      "Spans: [Span(type: PHONE_NUMBER, value: 07700 891929, char_span: [194: 206]), Span(type: STREET_ADDRESS, value: 8081 Ritter Manor\n",
      " Apt. 482\n",
      " West Ercanshire\n",
      " Tanzania, char_span: [108: 162]), Span(type: AUT_LICENSE_PLATE, value: W 19727 AO, char_span: [58: 68]), Span(type: PERSON, value: Andreas Hamann, char_span: [14: 28])]\n",
      "\n",
      "Full text: Nach mehrjähriger Tätigkeit im Ausland kehrt Detlef Dietz als neuer Leiter der Entwicklungsabteilung zurück und wird ab nächsten Monat alle innovativen Projekte koordinieren.\n",
      "Spans: [Span(type: PERSON, value: detlef dietz, char_span: [45: 57])]\n",
      "\n",
      "Full text: Bitte senden Sie alle relevanten Unterlagen zur steuerlichen Bearbeitung bis spätestens 15. des Monats direkt an die speziell eingerichtete Adresse cschleich@example.org.\n",
      "Spans: [Span(type: EMAIL_ADDRESS, value: cschleich@example.org, char_span: [148: 169])]\n",
      "\n",
      "Full text: Nach intensiven Verhandlungen mit der Wirtschaftsförderung konnte das Grundstück in 06412 Claus-Dieter Rue Apt. 873, North Carmelo, Eritrea 90108 zu vorteilhaften Konditionen für den geplanten Erweiterungsbau erworben werden.\n",
      "Spans: [Span(type: STREET_ADDRESS, value: 06412 Claus-Dieter Rue Apt. 873, North Carmelo, Eritrea 90108, char_span: [84: 145])]\n",
      "\n"
     ]
    }
   ],
   "source": [
    "for record in fake_records[:10]:\n",
    "    print(record)"
   ]
  },
  {
   "cell_type": "markdown",
   "metadata": {
    "pycharm": {
     "name": "#%% md\n"
    }
   },
   "source": [
    "#### Write to output\n",
    "\n",
    "Both:\n",
    "- JSON\n",
    "- CONLL (Todo)"
   ]
  },
  {
   "cell_type": "markdown",
   "metadata": {},
   "source": [
    "##### JSON"
   ]
  },
  {
   "cell_type": "code",
   "execution_count": 12,
   "metadata": {
    "is_executing": true,
    "pycharm": {
     "name": "#%%\n"
    }
   },
   "outputs": [],
   "source": [
    "InputSample.to_json(dataset=fake_records, output_file=output_file)"
   ]
  },
  {
   "cell_type": "code",
   "execution_count": 13,
   "metadata": {},
   "outputs": [
    {
     "data": {
      "text/plain": [
       "'data/generated_size_1500_date_April_11_2025.json'"
      ]
     },
     "execution_count": 13,
     "metadata": {},
     "output_type": "execute_result"
    }
   ],
   "source": [
    "output_file"
   ]
  },
  {
   "cell_type": "markdown",
   "metadata": {
    "pycharm": {
     "name": "#%% md\n"
    }
   },
   "source": [
    "##### CONLL"
   ]
  },
  {
   "cell_type": "code",
   "execution_count": 39,
   "metadata": {
    "is_executing": true,
    "pycharm": {
     "name": "#%%\n"
    }
   },
   "outputs": [],
   "source": [
    "#conll = InputSample.create_conll_dataset(dataset=fake_records)\n",
    "#conll.head(10)"
   ]
  },
  {
   "cell_type": "code",
   "execution_count": 40,
   "metadata": {
    "is_executing": true,
    "pycharm": {
     "name": "#%%\n"
    }
   },
   "outputs": [],
   "source": [
    "#conll.to_csv(output_conll, sep=\"\\t\")\n",
    "#print(f\"CoNLL2003 dataset structure output location: {output_conll}\")"
   ]
  },
  {
   "cell_type": "markdown",
   "metadata": {},
   "source": [
    "#### Copyright notice:\n",
    "\n",
    "\n",
    "Data generated for evaluation was created using Fake Name Generator.\n",
    "\n",
    "Fake Name Generator identities by the [Fake Name Generator](https://www.fakenamegenerator.com/) \n",
    "are licensed under a [Creative Commons Attribution-Share Alike 3.0 United States License](http://creativecommons.org/licenses/by-sa/3.0/us/). Fake Name Generator and the Fake Name Generator logo are trademarks of Corban Works, LLC."
   ]
  }
 ],
 "metadata": {
  "kernelspec": {
   "display_name": "pj-software",
   "language": "python",
   "name": "python3"
  },
  "language_info": {
   "codemirror_mode": {
    "name": "ipython",
    "version": 3
   },
   "file_extension": ".py",
   "mimetype": "text/x-python",
   "name": "python",
   "nbconvert_exporter": "python",
   "pygments_lexer": "ipython3",
   "version": "3.11.11"
  }
 },
 "nbformat": 4,
 "nbformat_minor": 4
}
