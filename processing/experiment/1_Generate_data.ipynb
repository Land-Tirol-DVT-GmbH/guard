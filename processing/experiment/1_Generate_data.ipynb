{
 "cells": [
  {
   "cell_type": "code",
   "execution_count": 1,
   "metadata": {
    "is_executing": true
   },
   "outputs": [],
   "source": [
    "# install presidio via pip if not yet installed\n",
    "\n",
    "#!pip install presidio-analyzer\n",
    "#!pip install presidio-evaluator"
   ]
  },
  {
   "cell_type": "code",
   "execution_count": 39,
   "metadata": {
    "is_executing": true,
    "scrolled": true
   },
   "outputs": [],
   "source": [
    "import datetime\n",
    "import pprint\n",
    "from collections import Counter\n",
    "from pathlib import Path\n",
    "from typing import Dict, List\n",
    "\n",
    "import pandas as pd\n",
    "import numpy as np\n",
    "\n",
    "from presidio_evaluator import InputSample\n",
    "from presidio_evaluator.data_generator import PresidioSentenceFaker\n",
    "from faker.providers import BaseProvider"
   ]
  },
  {
   "cell_type": "markdown",
   "metadata": {},
   "source": [
    "# Generate fake PII data using the Presidio Sentence Faker"
   ]
  },
  {
   "cell_type": "markdown",
   "metadata": {},
   "source": [
    "The Presidio Sentence Faker enables you to generate a synthetic dataset from sentence templates.\n",
    "Example templates:\n",
    "\n",
    "> I live at {{address}}\n",
    "\n",
    "> You can email me at {{email}}. Thanks, {{first_name}}\n",
    "\n",
    "> What's your last name? It's {{last_name}}\n",
    "\n",
    "> Every time I see you falling I get down on my knees and pray"
   ]
  },
  {
   "cell_type": "markdown",
   "metadata": {},
   "source": [
    "### Simple example for German sentences\n",
    "This uses the default generator to create 10 samples based on four templates"
   ]
  },
  {
   "cell_type": "code",
   "execution_count": 66,
   "metadata": {},
   "outputs": [
    {
     "data": {
      "text/html": [
       "<div>\n",
       "<style scoped>\n",
       "    .dataframe tbody tr th:only-of-type {\n",
       "        vertical-align: middle;\n",
       "    }\n",
       "\n",
       "    .dataframe tbody tr th {\n",
       "        vertical-align: top;\n",
       "    }\n",
       "\n",
       "    .dataframe thead th {\n",
       "        text-align: right;\n",
       "    }\n",
       "</style>\n",
       "<table border=\"1\" class=\"dataframe\">\n",
       "  <thead>\n",
       "    <tr style=\"text-align: right;\">\n",
       "      <th></th>\n",
       "      <th>NameSet</th>\n",
       "      <th>Number</th>\n",
       "      <th>GivenName</th>\n",
       "      <th>MiddleInitial</th>\n",
       "      <th>Surname</th>\n",
       "      <th>StreetAddress</th>\n",
       "      <th>City</th>\n",
       "      <th>StateFull</th>\n",
       "      <th>ZipCode</th>\n",
       "      <th>Country</th>\n",
       "      <th>...</th>\n",
       "      <th>Birthday</th>\n",
       "      <th>Age</th>\n",
       "      <th>NationalID</th>\n",
       "      <th>Company</th>\n",
       "      <th>Vehicle</th>\n",
       "      <th>Domain</th>\n",
       "      <th>GUID</th>\n",
       "      <th>Latitude</th>\n",
       "      <th>Longitude</th>\n",
       "      <th>Title</th>\n",
       "    </tr>\n",
       "  </thead>\n",
       "  <tbody>\n",
       "    <tr>\n",
       "      <th>0</th>\n",
       "      <td>Austrian</td>\n",
       "      <td>0</td>\n",
       "      <td>Joshua</td>\n",
       "      <td>E</td>\n",
       "      <td>Hosp</td>\n",
       "      <td>Schandlring 6/9</td>\n",
       "      <td>Köflach</td>\n",
       "      <td>Steiermark</td>\n",
       "      <td>5319</td>\n",
       "      <td>AT</td>\n",
       "      <td>...</td>\n",
       "      <td>01/26/1944</td>\n",
       "      <td>80</td>\n",
       "      <td>240-05-3938</td>\n",
       "      <td>Böhler Ltd</td>\n",
       "      <td>O 37660 GZ</td>\n",
       "      <td>hinteregger-stocker.co.at</td>\n",
       "      <td>627900e1-7982-4807-9917-2d162f937d5b</td>\n",
       "      <td>81.463266</td>\n",
       "      <td>-59.257238</td>\n",
       "      <td>Dr.</td>\n",
       "    </tr>\n",
       "    <tr>\n",
       "      <th>1</th>\n",
       "      <td>Austrian</td>\n",
       "      <td>1</td>\n",
       "      <td>Ina</td>\n",
       "      <td>F</td>\n",
       "      <td>Ofner</td>\n",
       "      <td>Liliana-Salzmann-Platz 0</td>\n",
       "      <td>Bischofshofen</td>\n",
       "      <td>Oberösterreich</td>\n",
       "      <td>3463</td>\n",
       "      <td>AT</td>\n",
       "      <td>...</td>\n",
       "      <td>01/18/1942</td>\n",
       "      <td>82</td>\n",
       "      <td>347-89-5908</td>\n",
       "      <td>Strohmeier Group</td>\n",
       "      <td>L 68011 LJ</td>\n",
       "      <td>wallner-thurner.com</td>\n",
       "      <td>c630a082-3553-445b-a0d2-8e9c94e6adda</td>\n",
       "      <td>-84.803370</td>\n",
       "      <td>-77.110354</td>\n",
       "      <td>Ing.</td>\n",
       "    </tr>\n",
       "    <tr>\n",
       "      <th>2</th>\n",
       "      <td>Austrian</td>\n",
       "      <td>2</td>\n",
       "      <td>Ajna</td>\n",
       "      <td>A</td>\n",
       "      <td>Schrempf</td>\n",
       "      <td>Aaron-Zechner-Weg 366</td>\n",
       "      <td>Lilienfeld</td>\n",
       "      <td>Oberösterreich</td>\n",
       "      <td>4923</td>\n",
       "      <td>AT</td>\n",
       "      <td>...</td>\n",
       "      <td>06/05/1943</td>\n",
       "      <td>81</td>\n",
       "      <td>243-56-7343</td>\n",
       "      <td>Jäger-Gstrein</td>\n",
       "      <td>B 22003 QF</td>\n",
       "      <td>rabitsch.co.at</td>\n",
       "      <td>f483e0da-5442-47d2-a2b3-5db050b624dd</td>\n",
       "      <td>-63.573471</td>\n",
       "      <td>68.746492</td>\n",
       "      <td>Frau</td>\n",
       "    </tr>\n",
       "    <tr>\n",
       "      <th>3</th>\n",
       "      <td>Austrian</td>\n",
       "      <td>3</td>\n",
       "      <td>Lukas</td>\n",
       "      <td>U</td>\n",
       "      <td>Brandner</td>\n",
       "      <td>Larissa-Fasching-Ring 5/3</td>\n",
       "      <td>Bad Ischl</td>\n",
       "      <td>Oberösterreich</td>\n",
       "      <td>4565</td>\n",
       "      <td>AT</td>\n",
       "      <td>...</td>\n",
       "      <td>05/30/1942</td>\n",
       "      <td>82</td>\n",
       "      <td>050-84-4562</td>\n",
       "      <td>Loibl, Graf and Schweitzer</td>\n",
       "      <td>T 4601 QS</td>\n",
       "      <td>kirchner-zoehrer.org</td>\n",
       "      <td>61eff7f4-58fc-458e-b3ef-8956841aeb3d</td>\n",
       "      <td>57.899460</td>\n",
       "      <td>123.404391</td>\n",
       "      <td>Ing.</td>\n",
       "    </tr>\n",
       "    <tr>\n",
       "      <th>4</th>\n",
       "      <td>Austrian</td>\n",
       "      <td>4</td>\n",
       "      <td>Lara-Sophie</td>\n",
       "      <td>L</td>\n",
       "      <td>Windisch</td>\n",
       "      <td>Reinischstr. 0</td>\n",
       "      <td>Leoben</td>\n",
       "      <td>Niederösterreich</td>\n",
       "      <td>9365</td>\n",
       "      <td>AT</td>\n",
       "      <td>...</td>\n",
       "      <td>06/18/2000</td>\n",
       "      <td>24</td>\n",
       "      <td>159-24-6956</td>\n",
       "      <td>Eberhard LLC</td>\n",
       "      <td>V 45528 EW</td>\n",
       "      <td>kahr-frank.co.at</td>\n",
       "      <td>b6461253-7eb1-4f85-a241-e5cc8a6ca6d0</td>\n",
       "      <td>47.395934</td>\n",
       "      <td>-95.218662</td>\n",
       "      <td>Herr</td>\n",
       "    </tr>\n",
       "  </tbody>\n",
       "</table>\n",
       "<p>5 rows × 24 columns</p>\n",
       "</div>"
      ],
      "text/plain": [
       "    NameSet  Number    GivenName MiddleInitial   Surname  \\\n",
       "0  Austrian       0       Joshua             E      Hosp   \n",
       "1  Austrian       1          Ina             F     Ofner   \n",
       "2  Austrian       2         Ajna             A  Schrempf   \n",
       "3  Austrian       3        Lukas             U  Brandner   \n",
       "4  Austrian       4  Lara-Sophie             L  Windisch   \n",
       "\n",
       "               StreetAddress           City         StateFull  ZipCode  \\\n",
       "0            Schandlring 6/9        Köflach        Steiermark     5319   \n",
       "1   Liliana-Salzmann-Platz 0  Bischofshofen    Oberösterreich     3463   \n",
       "2      Aaron-Zechner-Weg 366     Lilienfeld    Oberösterreich     4923   \n",
       "3  Larissa-Fasching-Ring 5/3      Bad Ischl    Oberösterreich     4565   \n",
       "4             Reinischstr. 0         Leoben  Niederösterreich     9365   \n",
       "\n",
       "  Country  ...    Birthday Age   NationalID                     Company  \\\n",
       "0      AT  ...  01/26/1944  80  240-05-3938                  Böhler Ltd   \n",
       "1      AT  ...  01/18/1942  82  347-89-5908            Strohmeier Group   \n",
       "2      AT  ...  06/05/1943  81  243-56-7343               Jäger-Gstrein   \n",
       "3      AT  ...  05/30/1942  82  050-84-4562  Loibl, Graf and Schweitzer   \n",
       "4      AT  ...  06/18/2000  24  159-24-6956                Eberhard LLC   \n",
       "\n",
       "      Vehicle                     Domain  \\\n",
       "0  O 37660 GZ  hinteregger-stocker.co.at   \n",
       "1  L 68011 LJ        wallner-thurner.com   \n",
       "2  B 22003 QF             rabitsch.co.at   \n",
       "3   T 4601 QS       kirchner-zoehrer.org   \n",
       "4  V 45528 EW           kahr-frank.co.at   \n",
       "\n",
       "                                   GUID   Latitude   Longitude Title  \n",
       "0  627900e1-7982-4807-9917-2d162f937d5b  81.463266  -59.257238   Dr.  \n",
       "1  c630a082-3553-445b-a0d2-8e9c94e6adda -84.803370  -77.110354  Ing.  \n",
       "2  f483e0da-5442-47d2-a2b3-5db050b624dd -63.573471   68.746492  Frau  \n",
       "3  61eff7f4-58fc-458e-b3ef-8956841aeb3d  57.899460  123.404391  Ing.  \n",
       "4  b6461253-7eb1-4f85-a241-e5cc8a6ca6d0  47.395934  -95.218662  Herr  \n",
       "\n",
       "[5 rows x 24 columns]"
      ]
     },
     "execution_count": 66,
     "metadata": {},
     "output_type": "execute_result"
    }
   ],
   "source": [
    "# German sentences\n",
    "german_templates = [\n",
    "    \"Mein Name ist {{name}}\",\n",
    "    \"Ich wohne in {{address}}\",\n",
    "    \"Meine E-Mail ist {{email}}\",\n",
    "    \"Meine Telefonnummer ist {{phone_number}}\",\n",
    "    \"Mein KFZ Kennzeichen ist {{vehicle}}\"\n",
    "    # Add more German templates here\n",
    "]\n",
    "\n",
    "# Update the entity mapping to include our custom entities\n",
    "german_entity_mapping = PresidioSentenceFaker.ENTITY_TYPE_MAPPING.copy()\n",
    "german_entity_mapping.update({\n",
    "    \"aut_license_plate\" : \"VEHICLE\"\n",
    "})\n",
    "\n",
    "# German entries for PII\n",
    "german_records = pd.read_csv(\"austrian_pii_dataset.csv\")\n",
    "\n",
    "german_records.head()"
   ]
  },
  {
   "cell_type": "code",
   "execution_count": null,
   "metadata": {},
   "outputs": [
    {
     "name": "stdout",
     "output_type": "stream",
     "text": [
      "Using default entity providers\n",
      "Using default entity mapping between the entities in the templates and the ones in the output dataset\n",
      "Using default provider aliases\n"
     ]
    },
    {
     "name": "stderr",
     "output_type": "stream",
     "text": [
      "Sampling:  20%|██        | 2/10 [00:00<00:00, 1447.06it/s]\n"
     ]
    },
    {
     "ename": "AttributeError",
     "evalue": "Failed to generate fake data based on template \"Mein KFZ Kennzeichen ist {{vehicle}}\". Add a new Faker provider or create an alias for the entity name. Unknown formatter 'vehicle'",
     "output_type": "error",
     "traceback": [
      "\u001b[31m---------------------------------------------------------------------------\u001b[39m",
      "\u001b[31mAttributeError\u001b[39m                            Traceback (most recent call last)",
      "\u001b[36mFile \u001b[39m\u001b[32mc:\\Users\\Alan\\anaconda3\\envs\\pj-software\\Lib\\site-packages\\faker\\generator.py:92\u001b[39m, in \u001b[36mGenerator.get_formatter\u001b[39m\u001b[34m(self, formatter)\u001b[39m\n\u001b[32m     91\u001b[39m \u001b[38;5;28;01mtry\u001b[39;00m:\n\u001b[32m---> \u001b[39m\u001b[32m92\u001b[39m     \u001b[38;5;28;01mreturn\u001b[39;00m \u001b[38;5;28mgetattr\u001b[39m(\u001b[38;5;28mself\u001b[39m, formatter)\n\u001b[32m     93\u001b[39m \u001b[38;5;28;01mexcept\u001b[39;00m \u001b[38;5;167;01mAttributeError\u001b[39;00m:\n",
      "\u001b[31mAttributeError\u001b[39m: 'RecordGenerator' object has no attribute 'vehicle'",
      "\nDuring handling of the above exception, another exception occurred:\n",
      "\u001b[31mAttributeError\u001b[39m                            Traceback (most recent call last)",
      "\u001b[36mFile \u001b[39m\u001b[32mc:\\Users\\Alan\\anaconda3\\envs\\pj-software\\Lib\\site-packages\\presidio_evaluator\\data_generator\\faker_extensions\\sentences.py:188\u001b[39m, in \u001b[36mSentenceFaker.parse\u001b[39m\u001b[34m(self, template, template_id, add_spans)\u001b[39m\n\u001b[32m    187\u001b[39m     span_generator: SpanGenerator = \u001b[38;5;28mself\u001b[39m.factories[\u001b[32m0\u001b[39m]\n\u001b[32m--> \u001b[39m\u001b[32m188\u001b[39m     fake_pattern = \u001b[43mspan_generator\u001b[49m\u001b[43m.\u001b[49m\u001b[43mparse\u001b[49m\u001b[43m(\u001b[49m\n\u001b[32m    189\u001b[39m \u001b[43m        \u001b[49m\u001b[43mtemplate\u001b[49m\u001b[43m,\u001b[49m\u001b[43m \u001b[49m\u001b[43madd_spans\u001b[49m\u001b[43m=\u001b[49m\u001b[43madd_spans\u001b[49m\u001b[43m,\u001b[49m\u001b[43m \u001b[49m\u001b[43mtemplate_id\u001b[49m\u001b[43m=\u001b[49m\u001b[43mtemplate_id\u001b[49m\n\u001b[32m    190\u001b[39m \u001b[43m    \u001b[49m\u001b[43m)\u001b[49m\n\u001b[32m    191\u001b[39m \u001b[38;5;28;01melse\u001b[39;00m:\n",
      "\u001b[36mFile \u001b[39m\u001b[32mc:\\Users\\Alan\\anaconda3\\envs\\pj-software\\Lib\\site-packages\\presidio_evaluator\\data_generator\\faker_extensions\\span_generator.py:47\u001b[39m, in \u001b[36mSpanGenerator.parse\u001b[39m\u001b[34m(self, text, add_spans, template_id, sample_id)\u001b[39m\n\u001b[32m     46\u001b[39m \u001b[38;5;66;03m# Create Span objects for original placeholders\u001b[39;00m\n\u001b[32m---> \u001b[39m\u001b[32m47\u001b[39m spans = \u001b[38;5;28;43mself\u001b[39;49m\u001b[43m.\u001b[49m\u001b[43m_match_to_span\u001b[49m\u001b[43m(\u001b[49m\u001b[43mtext\u001b[49m\u001b[43m)\u001b[49m\n\u001b[32m     49\u001b[39m \u001b[38;5;66;03m# Reverse for easier index handling while replacing\u001b[39;00m\n",
      "\u001b[36mFile \u001b[39m\u001b[32mc:\\Users\\Alan\\anaconda3\\envs\\pj-software\\Lib\\site-packages\\presidio_evaluator\\data_generator\\faker_extensions\\sentences.py:100\u001b[39m, in \u001b[36mRecordGenerator._match_to_span\u001b[39m\u001b[34m(self, text, **kwargs)\u001b[39m\n\u001b[32m     98\u001b[39m stripped = formatter.strip()\n\u001b[32m--> \u001b[39m\u001b[32m100\u001b[39m value = \u001b[38;5;28mstr\u001b[39m(\u001b[38;5;28;43mself\u001b[39;49m\u001b[43m.\u001b[49m\u001b[43mformat\u001b[49m\u001b[43m(\u001b[49m\u001b[43mformatter\u001b[49m\u001b[43m=\u001b[49m\u001b[43mstripped\u001b[49m\u001b[43m,\u001b[49m\u001b[43m \u001b[49m\u001b[43mrecord\u001b[49m\u001b[43m=\u001b[49m\u001b[43mrecord\u001b[49m\u001b[43m)\u001b[49m)\n\u001b[32m    101\u001b[39m \u001b[38;5;28;01mif\u001b[39;00m stripped \u001b[38;5;129;01min\u001b[39;00m record:\n",
      "\u001b[36mFile \u001b[39m\u001b[32mc:\\Users\\Alan\\anaconda3\\envs\\pj-software\\Lib\\site-packages\\presidio_evaluator\\data_generator\\faker_extensions\\sentences.py:121\u001b[39m, in \u001b[36mRecordGenerator.format\u001b[39m\u001b[34m(self, formatter, *args, **kwargs)\u001b[39m\n\u001b[32m    118\u001b[39m \u001b[38;5;28;01mif\u001b[39;00m \u001b[38;5;129;01mnot\u001b[39;00m record \u001b[38;5;129;01mor\u001b[39;00m \u001b[38;5;129;01mnot\u001b[39;00m record.get(\n\u001b[32m    119\u001b[39m     formatter\n\u001b[32m    120\u001b[39m ):  \u001b[38;5;66;03m# type not in record, go to default faker\u001b[39;00m\n\u001b[32m--> \u001b[39m\u001b[32m121\u001b[39m     \u001b[38;5;28;01mreturn\u001b[39;00m \u001b[38;5;28;43msuper\u001b[39;49m\u001b[43m(\u001b[49m\u001b[43m)\u001b[49m\u001b[43m.\u001b[49m\u001b[43mformat\u001b[49m\u001b[43m(\u001b[49m\u001b[43mformatter\u001b[49m\u001b[43m)\u001b[49m\n\u001b[32m    123\u001b[39m \u001b[38;5;28;01mreturn\u001b[39;00m record[formatter]\n",
      "\u001b[36mFile \u001b[39m\u001b[32mc:\\Users\\Alan\\anaconda3\\envs\\pj-software\\Lib\\site-packages\\faker\\generator.py:88\u001b[39m, in \u001b[36mGenerator.format\u001b[39m\u001b[34m(self, formatter, *args, **kwargs)\u001b[39m\n\u001b[32m     85\u001b[39m \u001b[38;5;250m\u001b[39m\u001b[33;03m\"\"\"\u001b[39;00m\n\u001b[32m     86\u001b[39m \u001b[33;03mThis is a secure way to make a fake from another Provider.\u001b[39;00m\n\u001b[32m     87\u001b[39m \u001b[33;03m\"\"\"\u001b[39;00m\n\u001b[32m---> \u001b[39m\u001b[32m88\u001b[39m \u001b[38;5;28;01mreturn\u001b[39;00m \u001b[38;5;28;43mself\u001b[39;49m\u001b[43m.\u001b[49m\u001b[43mget_formatter\u001b[49m\u001b[43m(\u001b[49m\u001b[43mformatter\u001b[49m\u001b[43m)\u001b[49m(*args, **kwargs)\n",
      "\u001b[36mFile \u001b[39m\u001b[32mc:\\Users\\Alan\\anaconda3\\envs\\pj-software\\Lib\\site-packages\\faker\\generator.py:97\u001b[39m, in \u001b[36mGenerator.get_formatter\u001b[39m\u001b[34m(self, formatter)\u001b[39m\n\u001b[32m     96\u001b[39m \u001b[38;5;28;01melse\u001b[39;00m:\n\u001b[32m---> \u001b[39m\u001b[32m97\u001b[39m     \u001b[38;5;28;01mraise\u001b[39;00m \u001b[38;5;167;01mAttributeError\u001b[39;00m(\u001b[33mf\u001b[39m\u001b[33m\"\u001b[39m\u001b[33mUnknown formatter \u001b[39m\u001b[38;5;132;01m{\u001b[39;00mformatter\u001b[38;5;132;01m!r}\u001b[39;00m\u001b[33m\"\u001b[39m)\n\u001b[32m     98\u001b[39m \u001b[38;5;28;01mraise\u001b[39;00m \u001b[38;5;167;01mAttributeError\u001b[39;00m(msg)\n",
      "\u001b[31mAttributeError\u001b[39m: Unknown formatter 'vehicle'",
      "\nDuring handling of the above exception, another exception occurred:\n",
      "\u001b[31mAttributeError\u001b[39m                            Traceback (most recent call last)",
      "\u001b[36mCell\u001b[39m\u001b[36m \u001b[39m\u001b[32mIn[67]\u001b[39m\u001b[32m, line 10\u001b[39m\n\u001b[32m      2\u001b[39m sentence_faker = PresidioSentenceFaker(\n\u001b[32m      3\u001b[39m     locale=\u001b[33m\"\u001b[39m\u001b[33mde_DE\u001b[39m\u001b[33m\"\u001b[39m,\n\u001b[32m      4\u001b[39m     lower_case_ratio=\u001b[32m0.5\u001b[39m,\n\u001b[32m      5\u001b[39m     sentence_templates=german_templates,\n\u001b[32m      6\u001b[39m     base_records=german_records)\n\u001b[32m      7\u001b[39m     \u001b[38;5;66;03m#entity_type_mapping=german_entity_mapping)\u001b[39;00m\n\u001b[32m      8\u001b[39m \n\u001b[32m      9\u001b[39m \u001b[38;5;66;03m# Fake some sentences\u001b[39;00m\n\u001b[32m---> \u001b[39m\u001b[32m10\u001b[39m fake_german_sentence_results = \u001b[43msentence_faker\u001b[49m\u001b[43m.\u001b[49m\u001b[43mgenerate_new_fake_sentences\u001b[49m\u001b[43m(\u001b[49m\u001b[32;43m10\u001b[39;49m\u001b[43m)\u001b[49m\n\u001b[32m     12\u001b[39m \u001b[38;5;28mprint\u001b[39m(fake_german_sentence_results[\u001b[32m0\u001b[39m].masked)\n\u001b[32m     13\u001b[39m \u001b[38;5;28mprint\u001b[39m(fake_german_sentence_results[\u001b[32m0\u001b[39m].spans)\n",
      "\u001b[36mFile \u001b[39m\u001b[32mc:\\Users\\Alan\\anaconda3\\envs\\pj-software\\Lib\\site-packages\\presidio_evaluator\\data_generator\\presidio_sentence_faker.py:171\u001b[39m, in \u001b[36mPresidioSentenceFaker.generate_new_fake_sentences\u001b[39m\u001b[34m(self, num_samples)\u001b[39m\n\u001b[32m    169\u001b[39m template = \u001b[38;5;28mself\u001b[39m._sentence_templates[template_id]\n\u001b[32m    170\u001b[39m template = \u001b[38;5;28mself\u001b[39m._preprocess_template(template)\n\u001b[32m--> \u001b[39m\u001b[32m171\u001b[39m fake_sentence_result = \u001b[38;5;28;43mself\u001b[39;49m\u001b[43m.\u001b[49m\u001b[43m_sentence_faker\u001b[49m\u001b[43m.\u001b[49m\u001b[43mparse\u001b[49m\u001b[43m(\u001b[49m\u001b[43mtemplate\u001b[49m\u001b[43m,\u001b[49m\u001b[43m \u001b[49m\u001b[43mtemplate_id\u001b[49m\u001b[43m)\u001b[49m\n\u001b[32m    172\u001b[39m \u001b[38;5;28;01mfor\u001b[39;00m span \u001b[38;5;129;01min\u001b[39;00m fake_sentence_result.spans:\n\u001b[32m    173\u001b[39m     \u001b[38;5;28;01mif\u001b[39;00m span.entity_type \u001b[38;5;129;01min\u001b[39;00m \u001b[38;5;28mself\u001b[39m._entity_type_mapping.keys():\n\u001b[32m    174\u001b[39m         \u001b[38;5;66;03m# Use the mapped entity type if exists\u001b[39;00m\n",
      "\u001b[36mFile \u001b[39m\u001b[32mc:\\Users\\Alan\\anaconda3\\envs\\pj-software\\Lib\\site-packages\\presidio_evaluator\\data_generator\\faker_extensions\\sentences.py:197\u001b[39m, in \u001b[36mSentenceFaker.parse\u001b[39m\u001b[34m(self, template, template_id, add_spans)\u001b[39m\n\u001b[32m    195\u001b[39m     \u001b[38;5;28;01mreturn\u001b[39;00m fake_pattern\n\u001b[32m    196\u001b[39m \u001b[38;5;28;01mexcept\u001b[39;00m \u001b[38;5;167;01mException\u001b[39;00m \u001b[38;5;28;01mas\u001b[39;00m err:\n\u001b[32m--> \u001b[39m\u001b[32m197\u001b[39m     \u001b[38;5;28;01mraise\u001b[39;00m \u001b[38;5;167;01mAttributeError\u001b[39;00m(\n\u001b[32m    198\u001b[39m         \u001b[33mf\u001b[39m\u001b[33m'\u001b[39m\u001b[33mFailed to generate fake data based on template \u001b[39m\u001b[33m\"\u001b[39m\u001b[38;5;132;01m{\u001b[39;00mtemplate\u001b[38;5;132;01m}\u001b[39;00m\u001b[33m\"\u001b[39m\u001b[33m. \u001b[39m\u001b[33m'\u001b[39m\n\u001b[32m    199\u001b[39m         \u001b[33mf\u001b[39m\u001b[33m\"\u001b[39m\u001b[33mAdd a new Faker provider or create an alias \u001b[39m\u001b[33m\"\u001b[39m\n\u001b[32m    200\u001b[39m         \u001b[33mf\u001b[39m\u001b[33m\"\u001b[39m\u001b[33mfor the entity name. \u001b[39m\u001b[38;5;132;01m{\u001b[39;00merr\u001b[38;5;132;01m}\u001b[39;00m\u001b[33m\"\u001b[39m\n\u001b[32m    201\u001b[39m     )\n",
      "\u001b[31mAttributeError\u001b[39m: Failed to generate fake data based on template \"Mein KFZ Kennzeichen ist {{vehicle}}\". Add a new Faker provider or create an alias for the entity name. Unknown formatter 'vehicle'"
     ]
    }
   ],
   "source": [
    "# Create an instance of the Faker with the custom objects\n",
    "sentence_faker = PresidioSentenceFaker(\n",
    "    locale=\"de_DE\",\n",
    "    lower_case_ratio=0.5,\n",
    "    sentence_templates=german_templates,\n",
    "    base_records=german_records,\n",
    "    entity_type_mapping=german_entity_mapping)\n",
    "\n",
    "# Fake some sentences\n",
    "fake_german_sentence_results = sentence_faker.generate_new_fake_sentences(10)\n",
    "\n",
    "print(fake_german_sentence_results[0].masked)\n",
    "print(fake_german_sentence_results[0].spans)"
   ]
  },
  {
   "cell_type": "markdown",
   "metadata": {},
   "source": [
    "## Generate a full German dataset\n",
    "\n",
    "In this example we generate a large dataset with multiple entity types and save it in in JSON and CONLL03 formats.\n",
    "This uses the German templates"
   ]
  },
  {
   "cell_type": "code",
   "execution_count": 13,
   "metadata": {
    "is_executing": true,
    "scrolled": true
   },
   "outputs": [],
   "source": [
    "number_of_samples = 1500\n",
    "lower_case_ratio = 0.05\n",
    "locale = \"de\"\n",
    "cur_time = datetime.date.today().strftime(\"%B_%d_%Y\")\n",
    "\n",
    "output_file = f\"../data/generated_size_{number_of_samples}_date_{cur_time}.json\"\n",
    "output_conll = f\"../data/generated_size_{number_of_samples}_date_{cur_time}.tsv\""
   ]
  },
  {
   "cell_type": "markdown",
   "metadata": {
    "pycharm": {
     "name": "#%% md\n"
    }
   },
   "source": [
    "The `PresidioSentenceFaker` is based on the Faker library. It loads [FakeNameGenerator](https://www.fakenamegenerator.com/) data by default\n",
    "to extend the set of fake values and creates a `SentenceFaker` \n",
    "which returns a fake person record (with multiple values) instead of one value,\n",
    "allowing dependencies between values belonging to the same fake person\n",
    "(e.g. name = Michael Smith with the email michael.smith@gmail.com).\n",
    "\n",
    "`FakeNameGenerator.com_3000.csv` is included in this package and can be sourced from https://www.fakenamegenerator.com/order.php"
   ]
  },
  {
   "cell_type": "code",
   "execution_count": 27,
   "metadata": {},
   "outputs": [
    {
     "name": "stdout",
     "output_type": "stream",
     "text": [
      "Using default entity providers\n",
      "Using default entity mapping between the entities in the templates and the ones in the output dataset\n",
      "Using default provider aliases\n"
     ]
    }
   ],
   "source": [
    "# Adjusted faker\n",
    "sentence_faker = PresidioSentenceFaker(\n",
    "    locale=\"de_DE\",\n",
    "    lower_case_ratio=0.5,\n",
    "    sentence_templates=german_templates,\n",
    "    base_records=german_records)"
   ]
  },
  {
   "cell_type": "code",
   "execution_count": 28,
   "metadata": {},
   "outputs": [
    {
     "data": {
      "text/html": [
       "<div>\n",
       "<style scoped>\n",
       "    .dataframe tbody tr th:only-of-type {\n",
       "        vertical-align: middle;\n",
       "    }\n",
       "\n",
       "    .dataframe tbody tr th {\n",
       "        vertical-align: top;\n",
       "    }\n",
       "\n",
       "    .dataframe thead th {\n",
       "        text-align: right;\n",
       "    }\n",
       "</style>\n",
       "<table border=\"1\" class=\"dataframe\">\n",
       "  <thead>\n",
       "    <tr style=\"text-align: right;\">\n",
       "      <th></th>\n",
       "      <th>NameSet</th>\n",
       "      <th>Number</th>\n",
       "      <th>GivenName</th>\n",
       "      <th>MiddleInitial</th>\n",
       "      <th>Surname</th>\n",
       "      <th>StreetAddress</th>\n",
       "      <th>City</th>\n",
       "      <th>StateFull</th>\n",
       "      <th>ZipCode</th>\n",
       "      <th>Country</th>\n",
       "      <th>...</th>\n",
       "      <th>Birthday</th>\n",
       "      <th>Age</th>\n",
       "      <th>NationalID</th>\n",
       "      <th>Company</th>\n",
       "      <th>Vehicle</th>\n",
       "      <th>Domain</th>\n",
       "      <th>GUID</th>\n",
       "      <th>Latitude</th>\n",
       "      <th>Longitude</th>\n",
       "      <th>Title</th>\n",
       "    </tr>\n",
       "  </thead>\n",
       "  <tbody>\n",
       "    <tr>\n",
       "      <th>0</th>\n",
       "      <td>Austrian</td>\n",
       "      <td>0</td>\n",
       "      <td>Joshua</td>\n",
       "      <td>E</td>\n",
       "      <td>Hosp</td>\n",
       "      <td>Schandlring 6/9</td>\n",
       "      <td>Köflach</td>\n",
       "      <td>Steiermark</td>\n",
       "      <td>5319</td>\n",
       "      <td>AT</td>\n",
       "      <td>...</td>\n",
       "      <td>01/26/1944</td>\n",
       "      <td>80</td>\n",
       "      <td>240-05-3938</td>\n",
       "      <td>Böhler Ltd</td>\n",
       "      <td>O 37660 GZ</td>\n",
       "      <td>hinteregger-stocker.co.at</td>\n",
       "      <td>627900e1-7982-4807-9917-2d162f937d5b</td>\n",
       "      <td>81.463266</td>\n",
       "      <td>-59.257238</td>\n",
       "      <td>Dr.</td>\n",
       "    </tr>\n",
       "    <tr>\n",
       "      <th>1</th>\n",
       "      <td>Austrian</td>\n",
       "      <td>1</td>\n",
       "      <td>Ina</td>\n",
       "      <td>F</td>\n",
       "      <td>Ofner</td>\n",
       "      <td>Liliana-Salzmann-Platz 0</td>\n",
       "      <td>Bischofshofen</td>\n",
       "      <td>Oberösterreich</td>\n",
       "      <td>3463</td>\n",
       "      <td>AT</td>\n",
       "      <td>...</td>\n",
       "      <td>01/18/1942</td>\n",
       "      <td>82</td>\n",
       "      <td>347-89-5908</td>\n",
       "      <td>Strohmeier Group</td>\n",
       "      <td>L 68011 LJ</td>\n",
       "      <td>wallner-thurner.com</td>\n",
       "      <td>c630a082-3553-445b-a0d2-8e9c94e6adda</td>\n",
       "      <td>-84.803370</td>\n",
       "      <td>-77.110354</td>\n",
       "      <td>Ing.</td>\n",
       "    </tr>\n",
       "    <tr>\n",
       "      <th>2</th>\n",
       "      <td>Austrian</td>\n",
       "      <td>2</td>\n",
       "      <td>Ajna</td>\n",
       "      <td>A</td>\n",
       "      <td>Schrempf</td>\n",
       "      <td>Aaron-Zechner-Weg 366</td>\n",
       "      <td>Lilienfeld</td>\n",
       "      <td>Oberösterreich</td>\n",
       "      <td>4923</td>\n",
       "      <td>AT</td>\n",
       "      <td>...</td>\n",
       "      <td>06/05/1943</td>\n",
       "      <td>81</td>\n",
       "      <td>243-56-7343</td>\n",
       "      <td>Jäger-Gstrein</td>\n",
       "      <td>B 22003 QF</td>\n",
       "      <td>rabitsch.co.at</td>\n",
       "      <td>f483e0da-5442-47d2-a2b3-5db050b624dd</td>\n",
       "      <td>-63.573471</td>\n",
       "      <td>68.746492</td>\n",
       "      <td>Frau</td>\n",
       "    </tr>\n",
       "    <tr>\n",
       "      <th>3</th>\n",
       "      <td>Austrian</td>\n",
       "      <td>3</td>\n",
       "      <td>Lukas</td>\n",
       "      <td>U</td>\n",
       "      <td>Brandner</td>\n",
       "      <td>Larissa-Fasching-Ring 5/3</td>\n",
       "      <td>Bad Ischl</td>\n",
       "      <td>Oberösterreich</td>\n",
       "      <td>4565</td>\n",
       "      <td>AT</td>\n",
       "      <td>...</td>\n",
       "      <td>05/30/1942</td>\n",
       "      <td>82</td>\n",
       "      <td>050-84-4562</td>\n",
       "      <td>Loibl, Graf and Schweitzer</td>\n",
       "      <td>T 4601 QS</td>\n",
       "      <td>kirchner-zoehrer.org</td>\n",
       "      <td>61eff7f4-58fc-458e-b3ef-8956841aeb3d</td>\n",
       "      <td>57.899460</td>\n",
       "      <td>123.404391</td>\n",
       "      <td>Ing.</td>\n",
       "    </tr>\n",
       "    <tr>\n",
       "      <th>4</th>\n",
       "      <td>Austrian</td>\n",
       "      <td>4</td>\n",
       "      <td>Lara-Sophie</td>\n",
       "      <td>L</td>\n",
       "      <td>Windisch</td>\n",
       "      <td>Reinischstr. 0</td>\n",
       "      <td>Leoben</td>\n",
       "      <td>Niederösterreich</td>\n",
       "      <td>9365</td>\n",
       "      <td>AT</td>\n",
       "      <td>...</td>\n",
       "      <td>06/18/2000</td>\n",
       "      <td>24</td>\n",
       "      <td>159-24-6956</td>\n",
       "      <td>Eberhard LLC</td>\n",
       "      <td>V 45528 EW</td>\n",
       "      <td>kahr-frank.co.at</td>\n",
       "      <td>b6461253-7eb1-4f85-a241-e5cc8a6ca6d0</td>\n",
       "      <td>47.395934</td>\n",
       "      <td>-95.218662</td>\n",
       "      <td>Herr</td>\n",
       "    </tr>\n",
       "  </tbody>\n",
       "</table>\n",
       "<p>5 rows × 24 columns</p>\n",
       "</div>"
      ],
      "text/plain": [
       "    NameSet  Number    GivenName MiddleInitial   Surname  \\\n",
       "0  Austrian       0       Joshua             E      Hosp   \n",
       "1  Austrian       1          Ina             F     Ofner   \n",
       "2  Austrian       2         Ajna             A  Schrempf   \n",
       "3  Austrian       3        Lukas             U  Brandner   \n",
       "4  Austrian       4  Lara-Sophie             L  Windisch   \n",
       "\n",
       "               StreetAddress           City         StateFull  ZipCode  \\\n",
       "0            Schandlring 6/9        Köflach        Steiermark     5319   \n",
       "1   Liliana-Salzmann-Platz 0  Bischofshofen    Oberösterreich     3463   \n",
       "2      Aaron-Zechner-Weg 366     Lilienfeld    Oberösterreich     4923   \n",
       "3  Larissa-Fasching-Ring 5/3      Bad Ischl    Oberösterreich     4565   \n",
       "4             Reinischstr. 0         Leoben  Niederösterreich     9365   \n",
       "\n",
       "  Country  ...    Birthday Age   NationalID                     Company  \\\n",
       "0      AT  ...  01/26/1944  80  240-05-3938                  Böhler Ltd   \n",
       "1      AT  ...  01/18/1942  82  347-89-5908            Strohmeier Group   \n",
       "2      AT  ...  06/05/1943  81  243-56-7343               Jäger-Gstrein   \n",
       "3      AT  ...  05/30/1942  82  050-84-4562  Loibl, Graf and Schweitzer   \n",
       "4      AT  ...  06/18/2000  24  159-24-6956                Eberhard LLC   \n",
       "\n",
       "      Vehicle                     Domain  \\\n",
       "0  O 37660 GZ  hinteregger-stocker.co.at   \n",
       "1  L 68011 LJ        wallner-thurner.com   \n",
       "2  B 22003 QF             rabitsch.co.at   \n",
       "3   T 4601 QS       kirchner-zoehrer.org   \n",
       "4  V 45528 EW           kahr-frank.co.at   \n",
       "\n",
       "                                   GUID   Latitude   Longitude Title  \n",
       "0  627900e1-7982-4807-9917-2d162f937d5b  81.463266  -59.257238   Dr.  \n",
       "1  c630a082-3553-445b-a0d2-8e9c94e6adda -84.803370  -77.110354  Ing.  \n",
       "2  f483e0da-5442-47d2-a2b3-5db050b624dd -63.573471   68.746492  Frau  \n",
       "3  61eff7f4-58fc-458e-b3ef-8956841aeb3d  57.899460  123.404391  Ing.  \n",
       "4  b6461253-7eb1-4f85-a241-e5cc8a6ca6d0  47.395934  -95.218662  Herr  \n",
       "\n",
       "[5 rows x 24 columns]"
      ]
     },
     "execution_count": 28,
     "metadata": {},
     "output_type": "execute_result"
    }
   ],
   "source": [
    "pd.DataFrame(sentence_faker._sentence_faker.records).head()"
   ]
  },
  {
   "cell_type": "markdown",
   "metadata": {},
   "source": [
    "`PresidioSentenceFaker` adds additional providers by default, which are not included in the Faker package.\n",
    "These can be found in `presidio_evaluator.data_generator.faker_extensions.providers`\n",
    "\n",
    "It is possible to create providers for additional entity types by extending Faker's `BaseProvider` class, \n",
    "and calling `add_provider` on the `PresidioSentenceFaker` instance.\n",
    "For example:"
   ]
  },
  {
   "cell_type": "code",
   "execution_count": 7,
   "metadata": {},
   "outputs": [],
   "source": [
    "import random\n",
    "from faker.providers import BaseProvider\n",
    "\n",
    "\n",
    "class MarsIdProvider(BaseProvider):\n",
    "    def mars_id(self):\n",
    "        # Generate a random row number between 1 and 50\n",
    "        row = random.randint(1, 50)\n",
    "        # Generate a random letter for the seat location from A-K\n",
    "        location = random.choice(\"ABCDEFGHIJK\")\n",
    "        # Return the seat in the format \"row-letter\" (e.g., \"25A\")\n",
    "        return f\"{row}{location}\"\n",
    "\n",
    "\n",
    "sentence_faker.add_provider(MarsIdProvider)\n",
    "# Now a new `mars_id` entity can be generated if a template has `mars_id` in it."
   ]
  },
  {
   "cell_type": "code",
   "execution_count": 8,
   "metadata": {
    "is_executing": true
   },
   "outputs": [
    {
     "data": {
      "text/plain": [
       "presidio_evaluator.data_generator.faker_extensions.providers.ReligionProvider"
      ]
     },
     "execution_count": 8,
     "metadata": {},
     "output_type": "execute_result"
    }
   ],
   "source": [
    "from presidio_evaluator.data_generator.faker_extensions.providers import *\n",
    "\n",
    "IpAddressProvider  # Both Ipv4 and IPv6 IP addresses\n",
    "NationalityProvider  # Read countries + nationalities from file\n",
    "OrganizationProvider  # Read organization names from file\n",
    "UsDriverLicenseProvider  # Read US driver license numbers from file\n",
    "AgeProvider  # Age values (unavailable on Faker\n",
    "AddressProviderNew  # Extend the default address formats\n",
    "PhoneNumberProviderNew  # Extend the default phone number formats\n",
    "ReligionProvider  # Read religions from file"
   ]
  },
  {
   "cell_type": "markdown",
   "metadata": {
    "pycharm": {
     "name": "#%% md\n"
    }
   },
   "source": [
    "`PresidioSentenceFaker.PROVIDER_ALIASES` can be extended to add additional provider aliases for when templates have\n",
    "a different entity name than what the providers emit."
   ]
  },
  {
   "cell_type": "code",
   "execution_count": 9,
   "metadata": {
    "is_executing": true,
    "pycharm": {
     "name": "#%%\n"
    }
   },
   "outputs": [
    {
     "data": {
      "text/plain": [
       "[('name', 'person'),\n",
       " ('credit_card_number', 'credit_card'),\n",
       " ('date_of_birth', 'birthday')]"
      ]
     },
     "execution_count": 9,
     "metadata": {},
     "output_type": "execute_result"
    }
   ],
   "source": [
    "# Create entity aliases (e.g. if your provider supports \"name\" but templates contain \"person\").\n",
    "provider_aliases = PresidioSentenceFaker.PROVIDER_ALIASES\n",
    "provider_aliases\n",
    "\n",
    "# To customize, call `PresidioSentenceFaker(locale=\"en_US\",...,provider_aliases=provider_aliases)`"
   ]
  },
  {
   "cell_type": "markdown",
   "metadata": {
    "pycharm": {
     "name": "#%% md\n"
    }
   },
   "source": [
    "Generate data"
   ]
  },
  {
   "cell_type": "code",
   "execution_count": 10,
   "metadata": {},
   "outputs": [
    {
     "name": "stderr",
     "output_type": "stream",
     "text": [
      "Sampling: 100%|██████████| 1500/1500 [00:00<00:00, 8316.22it/s]"
     ]
    },
    {
     "name": "stdout",
     "output_type": "stream",
     "text": [
      "Full text: I'll meet you at 323 Postbox 78\n",
      " Apt. 637\n",
      " Slædepatruljen Sirius\n",
      " Greenlander after the concert.\n",
      "Spans: [Span(type: STREET_ADDRESS, value: 323 Postbox 78\n",
      " Apt. 637\n",
      " Slædepatruljen Sirius\n",
      " Greenlander, char_span: [17: 77])]\n",
      "\n"
     ]
    },
    {
     "name": "stderr",
     "output_type": "stream",
     "text": [
      "\n"
     ]
    }
   ],
   "source": [
    "fake_records = sentence_faker.generate_new_fake_sentences(num_samples=number_of_samples)\n",
    "pprint.pprint(fake_records[0])"
   ]
  },
  {
   "cell_type": "markdown",
   "metadata": {},
   "source": [
    "#### Verify randomness of dataset"
   ]
  },
  {
   "cell_type": "code",
   "execution_count": 11,
   "metadata": {
    "is_executing": true,
    "scrolled": true
   },
   "outputs": [
    {
     "name": "stdout",
     "output_type": "stream",
     "text": [
      "Total: 1500\n",
      "Avg # of records per template: 7.142857142857143\n",
      "Median # of records per template: 7.0\n",
      "Std: 2.7513756608669206\n"
     ]
    }
   ],
   "source": [
    "count_per_template_id = Counter([sample.template_id for sample in fake_records])\n",
    "\n",
    "print(f\"Total: {sum(count_per_template_id.values())}\")\n",
    "print(f\"Avg # of records per template: {np.mean(list(count_per_template_id.values()))}\")\n",
    "print(\n",
    "    f\"Median # of records per template: {np.median(list(count_per_template_id.values()))}\"\n",
    ")\n",
    "print(f\"Std: {np.std(list(count_per_template_id.values()))}\")"
   ]
  },
  {
   "cell_type": "markdown",
   "metadata": {
    "pycharm": {
     "name": "#%% md\n"
    }
   },
   "source": [
    "#### Which entities did we generate?"
   ]
  },
  {
   "cell_type": "code",
   "execution_count": 12,
   "metadata": {
    "is_executing": true,
    "pycharm": {
     "name": "#%%\n"
    }
   },
   "outputs": [
    {
     "data": {
      "text/plain": [
       "Counter({'PERSON': 875,\n",
       "         'STREET_ADDRESS': 647,\n",
       "         'GPE': 462,\n",
       "         'ORGANIZATION': 260,\n",
       "         'CREDIT_CARD': 146,\n",
       "         'PHONE_NUMBER': 101,\n",
       "         'DATE_TIME': 96,\n",
       "         'TITLE': 88,\n",
       "         'AGE': 73,\n",
       "         'NRP': 61,\n",
       "         'EMAIL_ADDRESS': 47,\n",
       "         'ZIP_CODE': 39,\n",
       "         'DOMAIN_NAME': 28,\n",
       "         'IBAN_CODE': 22,\n",
       "         'US_SSN': 11,\n",
       "         'IP_ADDRESS': 11,\n",
       "         'US_DRIVER_LICENSE': 11})"
      ]
     },
     "execution_count": 12,
     "metadata": {},
     "output_type": "execute_result"
    }
   ],
   "source": [
    "count_per_entity = Counter()\n",
    "for record in fake_records:\n",
    "    count_per_entity.update(Counter([span.entity_type for span in record.spans]))\n",
    "\n",
    "count_per_entity"
   ]
  },
  {
   "cell_type": "code",
   "execution_count": 13,
   "metadata": {},
   "outputs": [
    {
     "name": "stdout",
     "output_type": "stream",
     "text": [
      "Full text: I'll meet you at 323 Postbox 78\n",
      " Apt. 637\n",
      " Slædepatruljen Sirius\n",
      " Greenlander after the concert.\n",
      "Spans: [Span(type: STREET_ADDRESS, value: 323 Postbox 78\n",
      " Apt. 637\n",
      " Slædepatruljen Sirius\n",
      " Greenlander, char_span: [17: 77])]\n",
      "\n",
      "Full text: The Adomos SA Orchestra was founded in 2014. Since then, it has grown from a volunteer community orchestra to a fully professional orchestra serving Portugal\n",
      "Spans: [Span(type: GPE, value: Portugal, char_span: [149: 157]), Span(type: DATE_TIME, value: 2014, char_span: [39: 43]), Span(type: ORGANIZATION, value: Adomos SA, char_span: [4: 13])]\n",
      "\n",
      "Full text: It's like that since 4/26/1954\n",
      "Spans: [Span(type: DATE_TIME, value: 4/26/1954, char_span: [21: 30])]\n",
      "\n",
      "Full text: One of the most depressing songs on the list. He's injured from the waist down from New Zealand, but Rinoka just has to get laid. Don't go to town, Lisa!\n",
      "Spans: [Span(type: PERSON, value: Lisa, char_span: [148: 152]), Span(type: PERSON, value: Rinoka, char_span: [101: 107]), Span(type: GPE, value: New Zealand, char_span: [84: 95])]\n",
      "\n",
      "Full text: Celebrating its 10th year in Maniitsoq, Marshall, Hernandez and Simpson is a 501(c)3 that invites songwriters from around the world to Tomášhaven to share the universal language of music in collaborations designed to bridge cultures, build friendships and cultivate peace.\n",
      "Spans: [Span(type: GPE, value: Tomášhaven, char_span: [135: 145]), Span(type: ORGANIZATION, value: Marshall, Hernandez and Simpson, char_span: [40: 71]), Span(type: GPE, value: Maniitsoq, char_span: [29: 38])]\n",
      "\n",
      "Full text: I would like to remove my kid Milada from the will. How do I do that?\n",
      "Spans: [Span(type: PERSON, value: Milada, char_span: [30: 36])]\n",
      "\n",
      "Full text: A great song made even greater by a mandolin coda (not by Hugolina Cazares).\n",
      "Spans: [Span(type: PERSON, value: Hugolina Cazares, char_span: [58: 74])]\n",
      "\n",
      "Full text: Who's coming to New Zealand with me?\n",
      "Spans: [Span(type: GPE, value: New Zealand, char_span: [16: 27])]\n",
      "\n",
      "Full text: For my take on Ms. Portič, see Guilty Pleasures: 5 Musicians Of The 70s You're Supposed To Hate (But Secretly Love)\n",
      "Spans: [Span(type: PERSON, value: Portič, char_span: [19: 25]), Span(type: TITLE, value: Ms., char_span: [15: 18])]\n",
      "\n",
      "Full text: Blink-182 pay tribute here to the Switzerland. Producer Jiří Lukášek explained to Fuse TV: \"We all liked the idea of writing a song about our state, where we live and love. To me it's the most beautiful place in the world, this song was us giving credit to how lucky we are to have lived here and grown up here, raising families here, the whole thing.\"\n",
      "Spans: [Span(type: PERSON, value: Jiří Lukášek, char_span: [56: 68]), Span(type: GPE, value: Switzerland, char_span: [34: 45])]\n",
      "\n"
     ]
    }
   ],
   "source": [
    "for record in fake_records[:10]:\n",
    "    print(record)"
   ]
  },
  {
   "cell_type": "markdown",
   "metadata": {
    "pycharm": {
     "name": "#%% md\n"
    }
   },
   "source": [
    "#### Save as json"
   ]
  },
  {
   "cell_type": "code",
   "execution_count": 14,
   "metadata": {
    "is_executing": true,
    "pycharm": {
     "name": "#%%\n"
    }
   },
   "outputs": [],
   "source": [
    "InputSample.to_json(dataset=fake_records, output_file=output_file)"
   ]
  },
  {
   "cell_type": "code",
   "execution_count": 15,
   "metadata": {},
   "outputs": [
    {
     "data": {
      "text/plain": [
       "'../data/generated_size_1500_date_January_08_2025.json'"
      ]
     },
     "execution_count": 15,
     "metadata": {},
     "output_type": "execute_result"
    }
   ],
   "source": [
    "output_file"
   ]
  },
  {
   "cell_type": "markdown",
   "metadata": {
    "pycharm": {
     "name": "#%% md\n"
    }
   },
   "source": [
    "#### Create a CONLL like data frame"
   ]
  },
  {
   "cell_type": "code",
   "execution_count": 16,
   "metadata": {
    "is_executing": true,
    "pycharm": {
     "name": "#%%\n"
    }
   },
   "outputs": [
    {
     "name": "stderr",
     "output_type": "stream",
     "text": [
      "  0%|          | 0/1500 [00:00<?, ?it/s]"
     ]
    },
    {
     "name": "stdout",
     "output_type": "stream",
     "text": [
      "loading model en_core_web_sm\n"
     ]
    },
    {
     "name": "stderr",
     "output_type": "stream",
     "text": [
      "100%|██████████| 1500/1500 [00:04<00:00, 320.23it/s]\n"
     ]
    },
    {
     "data": {
      "text/html": [
       "<div>\n",
       "<style scoped>\n",
       "    .dataframe tbody tr th:only-of-type {\n",
       "        vertical-align: middle;\n",
       "    }\n",
       "\n",
       "    .dataframe tbody tr th {\n",
       "        vertical-align: top;\n",
       "    }\n",
       "\n",
       "    .dataframe thead th {\n",
       "        text-align: right;\n",
       "    }\n",
       "</style>\n",
       "<table border=\"1\" class=\"dataframe\">\n",
       "  <thead>\n",
       "    <tr style=\"text-align: right;\">\n",
       "      <th></th>\n",
       "      <th>text</th>\n",
       "      <th>pos</th>\n",
       "      <th>tag</th>\n",
       "      <th>template_id</th>\n",
       "      <th>label</th>\n",
       "      <th>sentence</th>\n",
       "    </tr>\n",
       "  </thead>\n",
       "  <tbody>\n",
       "    <tr>\n",
       "      <th>0</th>\n",
       "      <td>I</td>\n",
       "      <td>PRON</td>\n",
       "      <td>PRP</td>\n",
       "      <td>46</td>\n",
       "      <td>O</td>\n",
       "      <td>0</td>\n",
       "    </tr>\n",
       "    <tr>\n",
       "      <th>1</th>\n",
       "      <td>'ll</td>\n",
       "      <td>AUX</td>\n",
       "      <td>MD</td>\n",
       "      <td>46</td>\n",
       "      <td>O</td>\n",
       "      <td>0</td>\n",
       "    </tr>\n",
       "    <tr>\n",
       "      <th>2</th>\n",
       "      <td>meet</td>\n",
       "      <td>VERB</td>\n",
       "      <td>VB</td>\n",
       "      <td>46</td>\n",
       "      <td>O</td>\n",
       "      <td>0</td>\n",
       "    </tr>\n",
       "    <tr>\n",
       "      <th>3</th>\n",
       "      <td>you</td>\n",
       "      <td>PRON</td>\n",
       "      <td>PRP</td>\n",
       "      <td>46</td>\n",
       "      <td>O</td>\n",
       "      <td>0</td>\n",
       "    </tr>\n",
       "    <tr>\n",
       "      <th>4</th>\n",
       "      <td>at</td>\n",
       "      <td>ADP</td>\n",
       "      <td>IN</td>\n",
       "      <td>46</td>\n",
       "      <td>O</td>\n",
       "      <td>0</td>\n",
       "    </tr>\n",
       "    <tr>\n",
       "      <th>5</th>\n",
       "      <td>323</td>\n",
       "      <td>NUM</td>\n",
       "      <td>CD</td>\n",
       "      <td>46</td>\n",
       "      <td>B-STREET_ADDRESS</td>\n",
       "      <td>0</td>\n",
       "    </tr>\n",
       "    <tr>\n",
       "      <th>6</th>\n",
       "      <td>Postbox</td>\n",
       "      <td>PROPN</td>\n",
       "      <td>NNP</td>\n",
       "      <td>46</td>\n",
       "      <td>I-STREET_ADDRESS</td>\n",
       "      <td>0</td>\n",
       "    </tr>\n",
       "    <tr>\n",
       "      <th>7</th>\n",
       "      <td>78</td>\n",
       "      <td>NUM</td>\n",
       "      <td>CD</td>\n",
       "      <td>46</td>\n",
       "      <td>I-STREET_ADDRESS</td>\n",
       "      <td>0</td>\n",
       "    </tr>\n",
       "    <tr>\n",
       "      <th>8</th>\n",
       "      <td>\\n</td>\n",
       "      <td>SPACE</td>\n",
       "      <td>_SP</td>\n",
       "      <td>46</td>\n",
       "      <td>I-STREET_ADDRESS</td>\n",
       "      <td>0</td>\n",
       "    </tr>\n",
       "    <tr>\n",
       "      <th>9</th>\n",
       "      <td>Apt</td>\n",
       "      <td>PROPN</td>\n",
       "      <td>NNP</td>\n",
       "      <td>46</td>\n",
       "      <td>I-STREET_ADDRESS</td>\n",
       "      <td>0</td>\n",
       "    </tr>\n",
       "  </tbody>\n",
       "</table>\n",
       "</div>"
      ],
      "text/plain": [
       "      text    pos  tag  template_id             label  sentence\n",
       "0        I   PRON  PRP           46                 O         0\n",
       "1      'll    AUX   MD           46                 O         0\n",
       "2     meet   VERB   VB           46                 O         0\n",
       "3      you   PRON  PRP           46                 O         0\n",
       "4       at    ADP   IN           46                 O         0\n",
       "5      323    NUM   CD           46  B-STREET_ADDRESS         0\n",
       "6  Postbox  PROPN  NNP           46  I-STREET_ADDRESS         0\n",
       "7       78    NUM   CD           46  I-STREET_ADDRESS         0\n",
       "8      \\n   SPACE  _SP           46  I-STREET_ADDRESS         0\n",
       "9      Apt  PROPN  NNP           46  I-STREET_ADDRESS         0"
      ]
     },
     "execution_count": 16,
     "metadata": {},
     "output_type": "execute_result"
    }
   ],
   "source": [
    "conll = InputSample.create_conll_dataset(dataset=fake_records)\n",
    "conll.head(10)"
   ]
  },
  {
   "cell_type": "code",
   "execution_count": 17,
   "metadata": {
    "is_executing": true,
    "pycharm": {
     "name": "#%%\n"
    }
   },
   "outputs": [
    {
     "name": "stdout",
     "output_type": "stream",
     "text": [
      "CoNLL2003 dataset structure output location: ../data/generated_size_1500_date_January_08_2025.tsv\n"
     ]
    }
   ],
   "source": [
    "conll.to_csv(output_conll, sep=\"\\t\")\n",
    "print(f\"CoNLL2003 dataset structure output location: {output_conll}\")"
   ]
  },
  {
   "cell_type": "markdown",
   "metadata": {},
   "source": [
    "### Next steps\n",
    "\n",
    "- Evaluate Presidio using fake data: [Sample](4_Evaluate_Presidio_Analyzer.ipynb)\n",
    "- Split to train/test/validation while ensuring sentences originiating from the same template are all on the same subset: [Sample](3_Split_by_pattern_#.ipynb)\n",
    "- Conduct a small exploratory data analysis on the generated data: [Sample](2_PII_EDA.ipynb)"
   ]
  },
  {
   "cell_type": "markdown",
   "metadata": {},
   "source": [
    "#### Copyright notice:\n",
    "\n",
    "\n",
    "Data generated for evaluation was created using Fake Name Generator.\n",
    "\n",
    "Fake Name Generator identities by the [Fake Name Generator](https://www.fakenamegenerator.com/) \n",
    "are licensed under a [Creative Commons Attribution-Share Alike 3.0 United States License](http://creativecommons.org/licenses/by-sa/3.0/us/). Fake Name Generator and the Fake Name Generator logo are trademarks of Corban Works, LLC."
   ]
  }
 ],
 "metadata": {
  "kernelspec": {
   "display_name": "pj-software",
   "language": "python",
   "name": "python3"
  },
  "language_info": {
   "codemirror_mode": {
    "name": "ipython",
    "version": 3
   },
   "file_extension": ".py",
   "mimetype": "text/x-python",
   "name": "python",
   "nbconvert_exporter": "python",
   "pygments_lexer": "ipython3",
   "version": "3.11.11"
  }
 },
 "nbformat": 4,
 "nbformat_minor": 4
}
